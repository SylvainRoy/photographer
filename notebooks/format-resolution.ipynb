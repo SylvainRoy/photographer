{
 "cells": [
  {
   "cell_type": "markdown",
   "metadata": {},
   "source": [
    "# Formal resolution\n",
    "\n",
    "This is an attempt to formally find the position of the photographer.\n",
    "It doesn't go well very quickly as one can see below.\n",
    "\n",
    "On fact, even the first step, finding the position of the lens, seems not achievable in a formal manner.\n",
    "\n",
    "\n",
    "## Compute the position of the lens\n",
    "\n",
    "Compute the position of the center of the lens (O) based on the positions of:\n",
    "* the photographer (P)\n",
    "* three summits (A, C, E)\n",
    "\n",
    "The lens is assumed to be orthogonal with OP.\n",
    "A', C' and E' are the projection of A, C and E on the lens."
   ]
  },
  {
   "cell_type": "code",
   "execution_count": 11,
   "metadata": {
    "collapsed": true
   },
   "outputs": [],
   "source": [
    "from sympy import symbols, diff, init_printing, solve\n",
    "from sympy.geometry import Point, Line, Segment, intersection\n",
    "init_printing(pretty_print=True, use_unicode=True)"
   ]
  },
  {
   "cell_type": "markdown",
   "metadata": {},
   "source": [
    "Let's define the various points:"
   ]
  },
  {
   "cell_type": "code",
   "execution_count": 12,
   "metadata": {
    "collapsed": true
   },
   "outputs": [],
   "source": [
    "xA, yA, xC, yC, xE, yE, xP, yP = symbols('xA yA xC yC xE yE xP yP')\n",
    "A = Point(xA, yA)\n",
    "C = Point(xC, yC)\n",
    "E = Point(xE, yE)\n",
    "P = Point(xP, yP)"
   ]
  },
  {
   "cell_type": "markdown",
   "metadata": {},
   "source": [
    "### Step1: Compute the orientation of the lens\n",
    "\n",
    "In this step, the lens is assumed to cross the middle of $PA$. So, $A'$ is an invariant in this step.\n",
    "\n",
    "Then, let's find the position of $C'$ to ensure that $A'B'/A'C'$ is as close as possible to $DeltaAB/DeltaAC$. ($DeltaAB$ and $DeltaAC$ are the distance, on the picture, between $A$ and $B$ or $A$ and $C$.)\n",
    "\n",
    "Note that if the photographer's position is right, we should have $A'B'/A'C' = DeltaAB/DeltaAC$.\n",
    "\n",
    "At the end of this step, we'll have found the right orientation of the lens. Though, the position of the lens will still be unknown, though."
   ]
  },
  {
   "cell_type": "markdown",
   "metadata": {},
   "source": [
    "A' is in the middle of P and A\n",
    ":"
   ]
  },
  {
   "cell_type": "code",
   "execution_count": 13,
   "metadata": {
    "collapsed": true
   },
   "outputs": [],
   "source": [
    "A_ = A.midpoint(P)"
   ]
  },
  {
   "cell_type": "markdown",
   "metadata": {},
   "source": [
    "E' is somewhere between P and E depending on the value alpha:"
   ]
  },
  {
   "cell_type": "code",
   "execution_count": 14,
   "metadata": {
    "collapsed": true
   },
   "outputs": [],
   "source": [
    "alpha = symbols('alpha')\n",
    "E_ = Point((1-alpha)*P.x + alpha*E.x,\n",
    "           (1-alpha)*P.y + alpha*E.y)"
   ]
  },
  {
   "cell_type": "markdown",
   "metadata": {},
   "source": [
    "Once we have A' and E', let's find C' which is at the intersection of A'E' (the lens) and EP (the light beam): "
   ]
  },
  {
   "cell_type": "code",
   "execution_count": 15,
   "metadata": {},
   "outputs": [],
   "source": [
    "C_ = intersection(Line(P, C), Line(A_, E_))[0]"
   ]
  },
  {
   "cell_type": "code",
   "execution_count": 16,
   "metadata": {},
   "outputs": [
    {
     "output_type": "execute_result",
     "data": {
      "text/plain": [
       "                             α⋅(xC - xP)⋅(xA⋅yE - xA⋅yP - xE⋅yA + xE⋅yP + xP⋅y\n",
       "──────────────────────────────────────────────────────────────────────────────\n",
       "2⋅α⋅xC⋅yE - 2⋅α⋅xC⋅yP - 2⋅α⋅xE⋅yC + 2⋅α⋅xE⋅yP + 2⋅α⋅xP⋅yC - 2⋅α⋅xP⋅yE + xA⋅yC \n",
       "\n",
       "A - xP⋅yE)                                  \n",
       "─────────────────────────────────────── + xP\n",
       "- xA⋅yP - xC⋅yA + xC⋅yP + xP⋅yA - xP⋅yC     "
      ],
      "image/png": "[encoded data removed]",
      "text/latex": "$\\displaystyle \\frac{\\alpha \\left(xC - xP\\right) \\left(xA yE - xA yP - xE yA + xE yP + xP yA - xP yE\\right)}{2 \\alpha xC yE - 2 \\alpha xC yP - 2 \\alpha xE yC + 2 \\alpha xE yP + 2 \\alpha xP yC - 2 \\alpha xP yE + xA yC - xA yP - xC yA + xC yP + xP yA - xP yC} + xP$"
     },
     "metadata": {},
     "execution_count": 16
    }
   ],
   "source": [
    "C_.x"
   ]
  },
  {
   "cell_type": "code",
   "execution_count": 17,
   "metadata": {},
   "outputs": [
    {
     "output_type": "execute_result",
     "data": {
      "text/plain": [
       "                             α⋅(yC - yP)⋅(xA⋅yE - xA⋅yP - xE⋅yA + xE⋅yP + xP⋅y\n",
       "──────────────────────────────────────────────────────────────────────────────\n",
       "2⋅α⋅xC⋅yE - 2⋅α⋅xC⋅yP - 2⋅α⋅xE⋅yC + 2⋅α⋅xE⋅yP + 2⋅α⋅xP⋅yC - 2⋅α⋅xP⋅yE + xA⋅yC \n",
       "\n",
       "A - xP⋅yE)                                  \n",
       "─────────────────────────────────────── + yP\n",
       "- xA⋅yP - xC⋅yA + xC⋅yP + xP⋅yA - xP⋅yC     "
      ],
      "image/png": "[encoded data removed]",
      "text/latex": "$\\displaystyle \\frac{\\alpha \\left(yC - yP\\right) \\left(xA yE - xA yP - xE yA + xE yP + xP yA - xP yE\\right)}{2 \\alpha xC yE - 2 \\alpha xC yP - 2 \\alpha xE yC + 2 \\alpha xE yP + 2 \\alpha xP yC - 2 \\alpha xP yE + xA yC - xA yP - xC yA + xC yP + xP yA - xP yC} + yP$"
     },
     "metadata": {},
     "execution_count": 17
    }
   ],
   "source": [
    "C_.y"
   ]
  },
  {
   "cell_type": "markdown",
   "metadata": {},
   "source": [
    "Now, let's find $alpha$ such as the orientation of the lens is such as the relative distance between the summits is respected compared to what we have on the picture.\n",
    "\n",
    "In order to do that, we want to minimize the absolute value of the error defined as follow (if the photographer is at the right position, we should get error=0).\n",
    "$$error = (A'E'/A'C') - ((deltaE-deltaA)/(deltaC-deltaA))$$\n",
    "\n",
    "Let's study the variation of $error(alpha)$ by looking at the derivate.\n",
    "$$d(error)/d(alpha) = d(A'E'/A'C')/d(alpha)$$\n",
    "\n",
    "As A'E' and A'C' are colinear, there exist gamma such as:\n",
    "$$A'E' = gamma*(xE'-xA')$$\n",
    "$$A'C' = gamma*(xC'-xA')$$\n",
    "\n",
    "Then, we can simplify further:\n",
    "$$d(error)/d(alpha) = d((xE'-xA') / (xC'-xA'))/d(alpha)$$"
   ]
  },
  {
   "cell_type": "code",
   "execution_count": 18,
   "metadata": {},
   "outputs": [
    {
     "output_type": "execute_result",
     "data": {
      "text/plain": [
       "                                                         xA                xP \n",
       "                                                  α⋅xE - ── + xP⋅(1 - α) - ── \n",
       "                                                         2                 2  \n",
       "──────────────────────────────────────────────────────────────────────────────\n",
       "                             α⋅(xC - xP)⋅(xA⋅yE - xA⋅yP - xE⋅yA + xE⋅yP + xP⋅y\n",
       "──────────────────────────────────────────────────────────────────────────────\n",
       "2⋅α⋅xC⋅yE - 2⋅α⋅xC⋅yP - 2⋅α⋅xE⋅yC + 2⋅α⋅xE⋅yP + 2⋅α⋅xP⋅yC - 2⋅α⋅xP⋅yE + xA⋅yC \n",
       "\n",
       "                                                 \n",
       "                                                 \n",
       "                                                 \n",
       "─────────────────────────────────────────────────\n",
       "A - xP⋅yE)                                xA   xP\n",
       "─────────────────────────────────────── - ── + ──\n",
       "- xA⋅yP - xC⋅yA + xC⋅yP + xP⋅yA - xP⋅yC   2    2 "
      ],
      "image/png": "[encoded data removed]",
      "text/latex": "$\\displaystyle \\frac{\\alpha xE - \\frac{xA}{2} + xP \\left(1 - \\alpha\\right) - \\frac{xP}{2}}{\\frac{\\alpha \\left(xC - xP\\right) \\left(xA yE - xA yP - xE yA + xE yP + xP yA - xP yE\\right)}{2 \\alpha xC yE - 2 \\alpha xC yP - 2 \\alpha xE yC + 2 \\alpha xE yP + 2 \\alpha xP yC - 2 \\alpha xP yE + xA yC - xA yP - xC yA + xC yP + xP yA - xP yC} - \\frac{xA}{2} + \\frac{xP}{2}}$"
     },
     "metadata": {},
     "execution_count": 18
    }
   ],
   "source": [
    "derror = (E_.x-A_.x) / (C_.x-A_.x)\n",
    "derror"
   ]
  },
  {
   "cell_type": "code",
   "execution_count": 19,
   "metadata": {},
   "outputs": [
    {
     "output_type": "execute_result",
     "data": {
      "text/plain": [
       "                                                                              \n",
       "                                                                              \n",
       "                                                                              \n",
       "                                                            xE - xP           \n",
       "──────────────────────────────────────────────────────────────────────────────\n",
       "                             α⋅(xC - xP)⋅(xA⋅yE - xA⋅yP - xE⋅yA + xE⋅yP + xP⋅y\n",
       "──────────────────────────────────────────────────────────────────────────────\n",
       "2⋅α⋅xC⋅yE - 2⋅α⋅xC⋅yP - 2⋅α⋅xE⋅yC + 2⋅α⋅xE⋅yP + 2⋅α⋅xP⋅yC - 2⋅α⋅xP⋅yE + xA⋅yC \n",
       "                                                                              \n",
       "\n",
       "                                                    ⎛  α⋅(xC - xP)⋅(xA⋅yE - xA\n",
       "                                                    ⎜- ───────────────────────\n",
       "                                                    ⎜                         \n",
       "                                                    ⎝  (2⋅α⋅xC⋅yE - 2⋅α⋅xC⋅yP \n",
       "───────────────────────────────────────────────── + ──────────────────────────\n",
       "A - xP⋅yE)                                xA   xP                             \n",
       "─────────────────────────────────────── - ── + ──                             \n",
       "- xA⋅yP - xC⋅yA + xC⋅yP + xP⋅yA - xP⋅yC   2    2                              \n",
       "                                                                              \n",
       "\n",
       "⋅yP - xE⋅yA + xE⋅yP + xP⋅yA - xP⋅yE)⋅(-2⋅xC⋅yE + 2⋅xC⋅yP + 2⋅xE⋅yC - 2⋅xE⋅yP -\n",
       "──────────────────────────────────────────────────────────────────────────────\n",
       "                                                                              \n",
       "- 2⋅α⋅xE⋅yC + 2⋅α⋅xE⋅yP + 2⋅α⋅xP⋅yC - 2⋅α⋅xP⋅yE + xA⋅yC - xA⋅yP - xC⋅yA + xC⋅y\n",
       "──────────────────────────────────────────────────────────────────────────────\n",
       "                                                                              \n",
       "                                              ⎛                             α⋅\n",
       "                                              ⎜───────────────────────────────\n",
       "                                              ⎝2⋅α⋅xC⋅yE - 2⋅α⋅xC⋅yP - 2⋅α⋅xE⋅\n",
       "\n",
       " 2⋅xP⋅yC + 2⋅xP⋅yE)                                 (xC - xP)⋅(xA⋅yE - xA⋅yP -\n",
       "─────────────────── - ────────────────────────────────────────────────────────\n",
       "                  2   2⋅α⋅xC⋅yE - 2⋅α⋅xC⋅yP - 2⋅α⋅xE⋅yC + 2⋅α⋅xE⋅yP + 2⋅α⋅xP⋅y\n",
       "P + xP⋅yA - xP⋅yC)                                                            \n",
       "──────────────────────────────────────────────────────────────────────────────\n",
       "                                                                              \n",
       "(xC - xP)⋅(xA⋅yE - xA⋅yP - xE⋅yA + xE⋅yP + xP⋅yA - xP⋅yE)                     \n",
       "──────────────────────────────────────────────────────────────────────────────\n",
       "yC + 2⋅α⋅xE⋅yP + 2⋅α⋅xP⋅yC - 2⋅α⋅xP⋅yE + xA⋅yC - xA⋅yP - xC⋅yA + xC⋅yP + xP⋅yA\n",
       "\n",
       " xE⋅yA + xE⋅yP + xP⋅yA - xP⋅yE)                              ⎞ ⎛       xA     \n",
       "─────────────────────────────────────────────────────────────⎟⋅⎜α⋅xE - ── + xP\n",
       "C - 2⋅α⋅xP⋅yE + xA⋅yC - xA⋅yP - xC⋅yA + xC⋅yP + xP⋅yA - xP⋅yC⎟ ⎝       2      \n",
       "                                                             ⎠                \n",
       "──────────────────────────────────────────────────────────────────────────────\n",
       "                   2                                                          \n",
       "           xA   xP⎞                                                           \n",
       "──────── - ── + ──⎟                                                           \n",
       " - xP⋅yC   2    2 ⎠                                                           \n",
       "\n",
       "           xP⎞\n",
       "⋅(1 - α) - ──⎟\n",
       "           2 ⎠\n",
       "              \n",
       "──────────────\n",
       "              \n",
       "              \n",
       "              \n",
       "              "
      ],
      "image/png": "[encoded data removed]",
      "text/latex": "$\\displaystyle \\frac{xE - xP}{\\frac{\\alpha \\left(xC - xP\\right) \\left(xA yE - xA yP - xE yA + xE yP + xP yA - xP yE\\right)}{2 \\alpha xC yE - 2 \\alpha xC yP - 2 \\alpha xE yC + 2 \\alpha xE yP + 2 \\alpha xP yC - 2 \\alpha xP yE + xA yC - xA yP - xC yA + xC yP + xP yA - xP yC} - \\frac{xA}{2} + \\frac{xP}{2}} + \\frac{\\left(- \\frac{\\alpha \\left(xC - xP\\right) \\left(xA yE - xA yP - xE yA + xE yP + xP yA - xP yE\\right) \\left(- 2 xC yE + 2 xC yP + 2 xE yC - 2 xE yP - 2 xP yC + 2 xP yE\\right)}{\\left(2 \\alpha xC yE - 2 \\alpha xC yP - 2 \\alpha xE yC + 2 \\alpha xE yP + 2 \\alpha xP yC - 2 \\alpha xP yE + xA yC - xA yP - xC yA + xC yP + xP yA - xP yC\\right)^{2}} - \\frac{\\left(xC - xP\\right) \\left(xA yE - xA yP - xE yA + xE yP + xP yA - xP yE\\right)}{2 \\alpha xC yE - 2 \\alpha xC yP - 2 \\alpha xE yC + 2 \\alpha xE yP + 2 \\alpha xP yC - 2 \\alpha xP yE + xA yC - xA yP - xC yA + xC yP + xP yA - xP yC}\\right) \\left(\\alpha xE - \\frac{xA}{2} + xP \\left(1 - \\alpha\\right) - \\frac{xP}{2}\\right)}{\\left(\\frac{\\alpha \\left(xC - xP\\right) \\left(xA yE - xA yP - xE yA + xE yP + xP yA - xP yE\\right)}{2 \\alpha xC yE - 2 \\alpha xC yP - 2 \\alpha xE yC + 2 \\alpha xE yP + 2 \\alpha xP yC - 2 \\alpha xP yE + xA yC - xA yP - xC yA + xC yP + xP yA - xP yC} - \\frac{xA}{2} + \\frac{xP}{2}\\right)^{2}}$"
     },
     "metadata": {},
     "execution_count": 19
    }
   ],
   "source": [
    "differror = diff(derror, alpha)\n",
    "differror"
   ]
  },
  {
   "cell_type": "code",
   "execution_count": 20,
   "metadata": {},
   "outputs": [
    {
     "output_type": "execute_result",
     "data": {
      "text/plain": [
       "                                                                              \n",
       "4⋅(xE - xP)⋅(2⋅α⋅(xC - xP)⋅(xA⋅yE - xA⋅yP - xE⋅yA + xE⋅yP + xP⋅yA - xP⋅yE) + (\n",
       "\n",
       "                                                                              \n",
       "-xA + xP)⋅(α⋅(2⋅xC⋅yE - 2⋅xC⋅yP - 2⋅xE⋅yC + 2⋅xE⋅yP + 2⋅xP⋅yC - 2⋅xP⋅yE) + xA⋅\n",
       "\n",
       "                                            2                                 \n",
       "yC - xA⋅yP - xC⋅yA + xC⋅yP + xP⋅yA - xP⋅yC)) ⋅(α⋅(2⋅xC⋅yE - 2⋅xC⋅yP - 2⋅xE⋅yC \n",
       "\n",
       "                                                                              \n",
       "+ 2⋅xE⋅yP + 2⋅xP⋅yC - 2⋅xP⋅yE) + xA⋅yC - xA⋅yP - xC⋅yA + xC⋅yP + xP⋅yA - xP⋅yC\n",
       "\n",
       " 4                                                                            \n",
       ")  + 4⋅(2⋅α⋅(xC - xP)⋅(xA⋅yE - xA⋅yP - xE⋅yA + xE⋅yP + xP⋅yA - xP⋅yE) + (-xA +\n",
       "\n",
       "                                                                              \n",
       " xP)⋅(α⋅(2⋅xC⋅yE - 2⋅xC⋅yP - 2⋅xE⋅yC + 2⋅xE⋅yP + 2⋅xP⋅yC - 2⋅xP⋅yE) + xA⋅yC - \n",
       "\n",
       "                                        ⎛                                     \n",
       "xA⋅yP - xC⋅yA + xC⋅yP + xP⋅yA - xP⋅yC))⋅⎝-α⋅(xC - xP)⋅(xA⋅yE - xA⋅yP - xE⋅yA +\n",
       "\n",
       "                                                                              \n",
       " xE⋅yP + xP⋅yA - xP⋅yE)⋅(-2⋅xC⋅yE + 2⋅xC⋅yP + 2⋅xE⋅yC - 2⋅xE⋅yP - 2⋅xP⋅yC + 2⋅\n",
       "\n",
       "                                                                              \n",
       "xP⋅yE)⋅(α⋅(2⋅xC⋅yE - 2⋅xC⋅yP - 2⋅xE⋅yC + 2⋅xE⋅yP + 2⋅xP⋅yC - 2⋅xP⋅yE) + xA⋅yC \n",
       "\n",
       "                                                                              \n",
       "- xA⋅yP - xC⋅yA + xC⋅yP + xP⋅yA - xP⋅yC) - (xC - xP)⋅(xA⋅yE - xA⋅yP - xE⋅yA + \n",
       "\n",
       "                                                                              \n",
       "xE⋅yP + xP⋅yA - xP⋅yE)⋅(α⋅(2⋅xC⋅yE - 2⋅xC⋅yP - 2⋅xE⋅yC + 2⋅xE⋅yP + 2⋅xP⋅yC - 2\n",
       "\n",
       "                                                        2⎞                    \n",
       "⋅xP⋅yE) + xA⋅yC - xA⋅yP - xC⋅yA + xC⋅yP + xP⋅yA - xP⋅yC) ⎠⋅(2⋅α⋅xE - xA + 2⋅xP\n",
       "\n",
       "                                                                              \n",
       "⋅(1 - α) - xP)⋅(α⋅(2⋅xC⋅yE - 2⋅xC⋅yP - 2⋅xE⋅yC + 2⋅xE⋅yP + 2⋅xP⋅yC - 2⋅xP⋅yE) \n",
       "\n",
       "                                                2\n",
       "+ xA⋅yC - xA⋅yP - xC⋅yA + xC⋅yP + xP⋅yA - xP⋅yC) "
      ],
      "image/png": "[encoded data removed]",
      "text/latex": "$\\displaystyle 4 \\left(xE - xP\\right) \\left(2 \\alpha \\left(xC - xP\\right) \\left(xA yE - xA yP - xE yA + xE yP + xP yA - xP yE\\right) + \\left(- xA + xP\\right) \\left(\\alpha \\left(2 xC yE - 2 xC yP - 2 xE yC + 2 xE yP + 2 xP yC - 2 xP yE\\right) + xA yC - xA yP - xC yA + xC yP + xP yA - xP yC\\right)\\right)^{2} \\left(\\alpha \\left(2 xC yE - 2 xC yP - 2 xE yC + 2 xE yP + 2 xP yC - 2 xP yE\\right) + xA yC - xA yP - xC yA + xC yP + xP yA - xP yC\\right)^{4} + 4 \\left(2 \\alpha \\left(xC - xP\\right) \\left(xA yE - xA yP - xE yA + xE yP + xP yA - xP yE\\right) + \\left(- xA + xP\\right) \\left(\\alpha \\left(2 xC yE - 2 xC yP - 2 xE yC + 2 xE yP + 2 xP yC - 2 xP yE\\right) + xA yC - xA yP - xC yA + xC yP + xP yA - xP yC\\right)\\right) \\left(- \\alpha \\left(xC - xP\\right) \\left(xA yE - xA yP - xE yA + xE yP + xP yA - xP yE\\right) \\left(- 2 xC yE + 2 xC yP + 2 xE yC - 2 xE yP - 2 xP yC + 2 xP yE\\right) \\left(\\alpha \\left(2 xC yE - 2 xC yP - 2 xE yC + 2 xE yP + 2 xP yC - 2 xP yE\\right) + xA yC - xA yP - xC yA + xC yP + xP yA - xP yC\\right) - \\left(xC - xP\\right) \\left(xA yE - xA yP - xE yA + xE yP + xP yA - xP yE\\right) \\left(\\alpha \\left(2 xC yE - 2 xC yP - 2 xE yC + 2 xE yP + 2 xP yC - 2 xP yE\\right) + xA yC - xA yP - xC yA + xC yP + xP yA - xP yC\\right)^{2}\\right) \\left(2 \\alpha xE - xA + 2 xP \\left(1 - \\alpha\\right) - xP\\right) \\left(\\alpha \\left(2 xC yE - 2 xC yP - 2 xE yC + 2 xE yP + 2 xP yC - 2 xP yE\\right) + xA yC - xA yP - xC yA + xC yP + xP yA - xP yC\\right)^{2}$"
     },
     "metadata": {},
     "execution_count": 20
    }
   ],
   "source": [
    "(differrornum, differrordenum) = differror.as_numer_denom()\n",
    "differrornum.collect(alpha)"
   ]
  },
  {
   "cell_type": "markdown",
   "metadata": {},
   "source": [
    "Well well well...\n",
    "\n",
    "$d(error)/d(alpha)$ has a numerator in $alpha^4$. Not easy to solve...\n",
    "\n",
    "Dead end!"
   ]
  },
  {
   "cell_type": "code",
   "execution_count": null,
   "metadata": {},
   "outputs": [],
   "source": []
  }
 ],
 "metadata": {
  "kernelspec": {
   "display_name": "Python 3",
   "language": "python",
   "name": "python3"
  },
  "language_info": {
   "codemirror_mode": {
    "name": "ipython",
    "version": 3
   },
   "file_extension": ".py",
   "mimetype": "text/x-python",
   "name": "python",
   "nbconvert_exporter": "python",
   "pygments_lexer": "ipython3",
   "version": "3.8.0-final"
  }
 },
 "nbformat": 4,
 "nbformat_minor": 1
}