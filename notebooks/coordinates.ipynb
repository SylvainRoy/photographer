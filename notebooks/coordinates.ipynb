{
 "cells": [
  {
   "cell_type": "markdown",
   "metadata": {},
   "source": [
    "# Coordinates"
   ]
  },
  {
   "cell_type": "code",
   "execution_count": 15,
   "metadata": {},
   "outputs": [],
   "source": [
    "from math import pi, sqrt, sin, cos, tan"
   ]
  },
  {
   "source": [
    "## Convert between WSG84 & UTM:\n",
    "\n",
    "* utm:\n",
    "    * Probably the simplest. Seems to do exactly what's needed.\n",
    "    * https://github.com/Turbo87/utm\n",
    "    * https://pypi.python.org/pypi/utm\n",
    "    * This is the option selected!\n",
    "\n",
    "* geographiclib\n",
    "    * Solve a different problem. Though it could be an option with more work. Especially if 'cross' UTM region cases are a problem.\n",
    "    * https://geographiclib.sourceforge.io/1.50/python/\n",
    "    * https://pypi.org/project/geographiclib/\n",
    "\n",
    "* pyproj:\n",
    "    * ... Complicated ...\n",
    "    * https://github.com/pyproj4/pyproj\n",
    "\n",
    "* not using a librabry:\n",
    "    * http://fr.wikipedia.org/wiki/Transverse_Universelle_de_Mercator \n",
    "    * the associated code is at the end of this notebook. "
   ],
   "cell_type": "markdown",
   "metadata": {}
  },
  {
   "cell_type": "markdown",
   "metadata": {},
   "source": [
    "### without external library\n",
    "\n",
    "Let's consider we are in France and take the reference meridian phi0 = 7 degrees."
   ]
  },
  {
   "cell_type": "code",
   "execution_count": 16,
   "metadata": {},
   "outputs": [],
   "source": [
    "def wsg84_to_umt(lat, lon, lon0=None):\n",
    "    \"\"\"\n",
    "    Convert from WSG84 coordinates in the geodesic system in DD format (e.g. (lat, lon) in degrees) to UTM coordinates (x, y) in metres.\n",
    "    The reference meridian is given in lon0.\n",
    "    \"\"\"\n",
    "    if lon0 is None:\n",
    "        lon0 = float(int(lon))\n",
    "    # convert from degree to radian\n",
    "    lat = 2.*pi*lat/360.\n",
    "    lon = 2.*pi*lon/360.\n",
    "    lon0 = 2.*pi*lon0/360.\n",
    "    # ref of the calculus below: http://fr.wikipedia.org/wiki/Transverse_Universelle_de_Mercator\n",
    "    e = 0.0818192\n",
    "    a = 6378.137\n",
    "    v = 1. / sqrt(1. - e**2 * sin(lat)**2)\n",
    "    A = (lon-lon0) * cos(lat)\n",
    "    s = (1. - e**2/4. - 3*e**4/64. - 5*e**6/256.) * lat\n",
    "    s -= (3*e**2/8. + 3*e**4/32. + 45*e**6/1024.) * sin(2.*lat)\n",
    "    s += (15.*e**4/256. + 45*e**6/1024.) * sin(4.*lat)\n",
    "    s -= (35*e**6/3072.) * sin(6*lat)\n",
    "    T = tan(lat)**2\n",
    "    C = e**2 / (1.-e**2) * cos(lat)**2\n",
    "    k0 = 0.9996\n",
    "    if(lat >= 0):\n",
    "        N0 = 0.\n",
    "    else:\n",
    "        N0 = 10000\n",
    "    E = 500. + k0*a*v*(A + (1.-T+C)*A**3/6. + (5-18*T+T**2)*A**5/120.)\n",
    "    N = N0 + k0*a*(s+v*tan(lat)*(A**2/2+(5-T+9*C+4*C**2)*A**4/24+(61-58*T+T**2)*A**6/720))\n",
    "    return (E*1000, N*1000)"
   ]
  },
  {
   "cell_type": "code",
   "execution_count": 17,
   "metadata": {},
   "outputs": [
    {
     "output_type": "execute_result",
     "data": {
      "text/plain": [
       "(829042.1752337032, 4839336.3133732965)"
      ]
     },
     "metadata": {},
     "execution_count": 17
    }
   ],
   "source": [
    "wsg84_to_umt(43.63421388888889, 7.07895, 3.)"
   ]
  },
  {
   "cell_type": "markdown",
   "metadata": {},
   "source": [
    "# Conversion from Degre Minute Second to Decimal\n",
    "\n",
    "This might come in useful..."
   ]
  },
  {
   "cell_type": "code",
   "execution_count": 18,
   "metadata": {},
   "outputs": [],
   "source": [
    "# Random place in the south of France\n",
    "location = '''+43°38′3.17\",+7°4′44.22\"'''"
   ]
  },
  {
   "cell_type": "markdown",
   "metadata": {},
   "source": [
    "Let's convert that to the DD notation:"
   ]
  },
  {
   "cell_type": "code",
   "execution_count": 19,
   "metadata": {},
   "outputs": [
    {
     "output_type": "execute_result",
     "data": {
      "text/plain": [
       "(43.63421388888889, 7.07895)"
      ]
     },
     "metadata": {},
     "execution_count": 19
    }
   ],
   "source": [
    "import re\n",
    "dms_re = re.compile(\"([+-])\\s*(\\d+)[^\\d]+\\s*(\\d+)[^\\d]+\\s*([\\d.]+)[^\\d]+,\\s*([+-])\\s*(\\d+)[^\\d]+\\s*(\\d+)[^\\d]+\\s*([\\d.]+)[^d]+\")\n",
    "\n",
    "def dms_to_dd(s):\n",
    "    \"\"\"Convert a string of the form +43°37′3.66\",+7°4′43.08\" (DMS notation) to a couple of float (DD notation).\"\"\"\n",
    "    m = dms_re.search(s)\n",
    "    latitude = float(m.group(2)) + float(m.group(3))/60 + float(m.group(4))/(60**2)\n",
    "    if m.group(1) == '-':\n",
    "        latitude = -latitude\n",
    "    longitude = float(m.group(6)) + float(m.group(7))/60 + float(m.group(8))/(60**2)\n",
    "    if m.group(5) == '-':\n",
    "        longitude = - longitude\n",
    "    return (latitude, longitude)\n",
    "\n",
    "\n",
    "(lat, lon) = dms_to_dd(location)\n",
    "(lat, lon)\n"
   ]
  }
 ],
 "metadata": {
  "kernelspec": {
   "name": "python380jvsc74a57bd0a1e5c3a7b956dd837f971fd8042351a51fbcd16291e2d967e1f69ce693be88e5",
   "display_name": "Python 3.8.0 64-bit ('3.8.0')"
  },
  "language_info": {
   "codemirror_mode": {
    "name": "ipython",
    "version": 3
   },
   "file_extension": ".py",
   "mimetype": "text/x-python",
   "name": "python",
   "nbconvert_exporter": "python",
   "pygments_lexer": "ipython3",
   "version": "3.8.0-final"
  }
 },
 "nbformat": 4,
 "nbformat_minor": 1
}