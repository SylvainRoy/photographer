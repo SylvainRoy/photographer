{
 "cells": [
  {
   "cell_type": "markdown",
   "metadata": {},
   "source": [
    "# From Google Maps coordinates to a planar coordinates\n",
    "\n",
    "The UI could be based on Google Maps to indicate (or even automatically retrieve) the coordinates of the points. This requires to be able to translate coordinates in DMS to UTM.\n",
    "\n",
    "## Possible options:\n",
    "\n",
    " * Libraries to check:\n",
    "   * utm:\n",
    "     * Probably the simplest. Seems to do exactly what's needed.\n",
    "     * https://github.com/Turbo87/utm\n",
    "     * https://pypi.python.org/pypi/utm\n",
    "\n",
    "   * geographiclib\n",
    "     * Solve a different problem. Though it could be an option with more work. Especially if 'cross' UTM region cases are a problem.\n",
    "     * https://geographiclib.sourceforge.io/1.50/python/\n",
    "     * https://pypi.org/project/geographiclib/\n",
    "\n",
    "   * pyproj:\n",
    "     * ... Complicated ...\n",
    "     * https://github.com/pyproj4/pyproj\n",
    "\n",
    "   * not using a librabry:\n",
    "     * http://fr.wikipedia.org/wiki/Transverse_Universelle_de_Mercator \n",
    "     * the associated code is at the end of this notebook. \n",
    "\n",
    "## Conclusion\n",
    "\n",
    "The library utm does the job!\n"
   ]
  },
  {
   "cell_type": "code",
   "execution_count": 11,
   "metadata": {},
   "outputs": [],
   "source": [
    "import sys\n",
    "sys.path.append('../')\n",
    "\n",
    "from math import sqrt, sin, cos, tan, pi\n",
    "\n",
    "from tools import distance\n",
    "\n",
    "import data.aiguillemidi1 as data"
   ]
  },
  {
   "source": [
    "# Using UTM library"
   ],
   "cell_type": "markdown",
   "metadata": {}
  },
  {
   "cell_type": "code",
   "execution_count": 12,
   "metadata": {},
   "outputs": [],
   "source": [
    "import utm"
   ]
  },
  {
   "cell_type": "code",
   "execution_count": 13,
   "metadata": {},
   "outputs": [
    {
     "output_type": "execute_result",
     "data": {
      "text/plain": [
       "[('Aiguille du Triolet', (45.9169134, 7.0246497), (1084, 511), 195),\n",
       " ('Aiguille de Talefre', (45.8999213, 7.0040026), (975, 384), 290),\n",
       " ('Aiguille de Leschaux', (45.8874995, 7.0069444), (990, 294), 401),\n",
       " ('Point Walker', (45.8688259, 6.9879852), (904, 155), 573),\n",
       " ('Dent du Geant', (45.8622473, 6.9518381), (713, 107), 738)]"
      ]
     },
     "metadata": {},
     "execution_count": 13
    }
   ],
   "source": [
    "data.points"
   ]
  },
  {
   "cell_type": "code",
   "execution_count": 14,
   "metadata": {},
   "outputs": [
    {
     "output_type": "execute_result",
     "data": {
      "text/plain": [
       "[(346816.20354137884, 5086713.274694688),\n",
       " (345167.8338765183, 5084865.276732581),\n",
       " (345361.54489491915, 5083479.473399293),\n",
       " (343838.2229562415, 5081441.718503605),\n",
       " (341013.9538669934, 5080782.198740208)]"
      ]
     },
     "metadata": {},
     "execution_count": 14
    }
   ],
   "source": [
    "pointslatlon = [utm.from_latlon(p[1][0], p[1][1]) for p in data.points]\n",
    "pointslatlon = [(p[0], p[1]) for p in pointslatlon]\n",
    "pointslatlon"
   ]
  },
  {
   "cell_type": "code",
   "execution_count": 15,
   "metadata": {},
   "outputs": [
    {
     "output_type": "execute_result",
     "data": {
      "text/plain": [
       "[0.0, 0.2984533978746381, 0.42736193458435623, 0.7297097437955102, 1.0]"
      ]
     },
     "metadata": {},
     "execution_count": 15
    }
   ],
   "source": [
    "distlatlon = []\n",
    "for p in pointslatlon:\n",
    "    dist = distance(pointslatlon[0], p) / distance(pointslatlon[0], pointslatlon[-1])\n",
    "    distlatlon.append(dist)\n",
    "distlatlon"
   ]
  },
  {
   "cell_type": "code",
   "execution_count": 16,
   "metadata": {},
   "outputs": [
    {
     "output_type": "execute_result",
     "data": {
      "text/plain": [
       "[0.0, 0.30512408783099315, 0.43114458516491233, 0.7272842095323536, 1.0]"
      ]
     },
     "metadata": {},
     "execution_count": 16
    }
   ],
   "source": [
    "pointsmap = [p[2] for p in data.points]\n",
    "\n",
    "distmap = []\n",
    "for p in pointsmap:\n",
    "    dist = distance(pointsmap[0], p) / distance(pointsmap[0], pointsmap[-1])\n",
    "    distmap.append(dist)\n",
    "distmap"
   ]
  },
  {
   "cell_type": "markdown",
   "metadata": {},
   "source": [
    "# Conversion from Degre Minute Second to Decimal\n",
    "\n",
    "This might come in useful..."
   ]
  },
  {
   "cell_type": "code",
   "execution_count": 17,
   "metadata": {},
   "outputs": [],
   "source": [
    "# Random place in the south of France\n",
    "location = '''+43°38′3.17\",+7°4′44.22\"'''"
   ]
  },
  {
   "cell_type": "markdown",
   "metadata": {},
   "source": [
    "Let's convert that to the DD notation:"
   ]
  },
  {
   "cell_type": "code",
   "execution_count": 18,
   "metadata": {},
   "outputs": [
    {
     "output_type": "execute_result",
     "data": {
      "text/plain": [
       "(43.63421388888889, 7.07895)"
      ]
     },
     "metadata": {},
     "execution_count": 18
    }
   ],
   "source": [
    "import re\n",
    "dms_re = re.compile(\"([+-])\\s*(\\d+)[^\\d]+\\s*(\\d+)[^\\d]+\\s*([\\d.]+)[^\\d]+,\\s*([+-])\\s*(\\d+)[^\\d]+\\s*(\\d+)[^\\d]+\\s*([\\d.]+)[^d]+\")\n",
    "\n",
    "def dms_to_dd(s):\n",
    "    \"\"\"Convert a string of the form +43°37′3.66\",+7°4′43.08\" (DMS notation) to a couple of float (DD notation).\"\"\"\n",
    "    m = dms_re.search(s)\n",
    "    latitude = float(m.group(2)) + float(m.group(3))/60 + float(m.group(4))/(60**2)\n",
    "    if m.group(1) == '-':\n",
    "        latitude = -latitude\n",
    "    longitude = float(m.group(6)) + float(m.group(7))/60 + float(m.group(8))/(60**2)\n",
    "    if m.group(5) == '-':\n",
    "        longitude = - longitude\n",
    "    return (latitude, longitude)\n",
    "\n",
    "\n",
    "(lat, lon) = dms_to_dd(location)\n",
    "(lat, lon)\n"
   ]
  },
  {
   "cell_type": "markdown",
   "metadata": {},
   "source": [
    "# Conversion without relying on a library\n",
    "\n",
    "__Warning:__ this hasn't been tested and isn't used. It is left here for reference.\n",
    "\n",
    "Here is a function to convert from DD coordinates in the wsg84 geodesic system to UTM coordinates.\n",
    "(ref: http://fr.wikipedia.org/wiki/Transverse_Universelle_de_Mercator).\n",
    "\n",
    "Let's consider we are in France and take the reference meridian phi0 = 7 degrees."
   ]
  },
  {
   "cell_type": "code",
   "execution_count": 19,
   "metadata": {},
   "outputs": [],
   "source": [
    "def wsg84_to_umt(lat, lon, lon0=None):\n",
    "    \"\"\"\n",
    "    Convert from WSG84 coordinates in the geodesic system in DD format (e.g. (lat, lon) in degrees) to UTM coordinates (x, y) in metres.\n",
    "    The reference meridian is given in lon0.\n",
    "    \"\"\"\n",
    "    if lon0 is None:\n",
    "        lon0 = float(int(lon))\n",
    "    # convert from degree to radian\n",
    "    lat = 2.*pi*lat/360.\n",
    "    lon = 2.*pi*lon/360.\n",
    "    lon0 = 2.*pi*lon0/360.\n",
    "    # ref of the calculus below: http://fr.wikipedia.org/wiki/Transverse_Universelle_de_Mercator\n",
    "    e = 0.0818192\n",
    "    a = 6378.137\n",
    "    v = 1. / sqrt(1. - e**2 * sin(lat)**2)\n",
    "    A = (lon-lon0) * cos(lat)\n",
    "    s = (1. - e**2/4. - 3*e**4/64. - 5*e**6/256.) * lat\n",
    "    s -= (3*e**2/8. + 3*e**4/32. + 45*e**6/1024.) * sin(2.*lat)\n",
    "    s += (15.*e**4/256. + 45*e**6/1024.) * sin(4.*lat)\n",
    "    s -= (35*e**6/3072.) * sin(6*lat)\n",
    "    T = tan(lat)**2\n",
    "    C = e**2 / (1.-e**2) * cos(lat)**2\n",
    "    k0 = 0.9996\n",
    "    if(lat >= 0):\n",
    "        N0 = 0.\n",
    "    else:\n",
    "        N0 = 10000\n",
    "    E = 500. + k0*a*v*(A + (1.-T+C)*A**3/6. + (5-18*T+T**2)*A**5/120.)\n",
    "    N = N0 + k0*a*(s+v*tan(lat)*(A**2/2+(5-T+9*C+4*C**2)*A**4/24+(61-58*T+T**2)*A**6/720))\n",
    "    return (E*1000, N*1000)"
   ]
  },
  {
   "cell_type": "code",
   "execution_count": 20,
   "metadata": {},
   "outputs": [
    {
     "output_type": "execute_result",
     "data": {
      "text/plain": [
       "True"
      ]
     },
     "metadata": {},
     "execution_count": 20
    }
   ],
   "source": [
    "(lat, lon) = dms_to_dd('''+45°09′43.08\",+5°50′51\"''')\n",
    "(e, n) = wsg84_to_umt(lat, lon, 3.)\n",
    "(723792, 5004888) == (int(e), int(n))"
   ]
  }
 ],
 "metadata": {
  "kernelspec": {
   "display_name": "Python 3",
   "language": "python",
   "name": "python3"
  },
  "language_info": {
   "codemirror_mode": {
    "name": "ipython",
    "version": 3
   },
   "file_extension": ".py",
   "mimetype": "text/x-python",
   "name": "python",
   "nbconvert_exporter": "python",
   "pygments_lexer": "ipython3",
   "version": "3.8.0-final"
  }
 },
 "nbformat": 4,
 "nbformat_minor": 1
}