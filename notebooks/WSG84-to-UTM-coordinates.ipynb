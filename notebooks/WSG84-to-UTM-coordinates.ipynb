{
 "cells": [
  {
   "cell_type": "markdown",
   "metadata": {},
   "source": [
    "# From Google Maps coordinates to a planar coordinates\n",
    "\n",
    "The UI could be based on Google Maps to indicate (or even automatically retrieve) the coordinates of the points. This requires to be able to translate coordinates in DMS to UTM.\n",
    "\n",
    "## Todo:\n",
    "\n",
    " * Don't forget to give a try to geographiclib...\n",
    " * Also check https://pypi.python.org/pypi/utm"
   ]
  },
  {
   "cell_type": "code",
   "execution_count": 3,
   "metadata": {},
   "outputs": [],
   "source": [
    "from math import sqrt, sin, cos, tan, pi\n",
    "import utm"
   ]
  },
  {
   "cell_type": "markdown",
   "metadata": {},
   "source": [
    "Google maps returns locations in the systeme geodesique WGS84 using the DMS notation:"
   ]
  },
  {
   "cell_type": "code",
   "execution_count": 4,
   "metadata": {},
   "outputs": [],
   "source": [
    "# Location of our home:\n",
    "location = '''+43°37′3.66\",+7°4′43.08\"'''"
   ]
  },
  {
   "cell_type": "markdown",
   "metadata": {},
   "source": [
    "Let's convert that to the DD notation:"
   ]
  },
  {
   "cell_type": "code",
   "execution_count": 5,
   "metadata": {},
   "outputs": [
    {
     "output_type": "execute_result",
     "data": {
      "text/plain": [
       "(43.61768333333333, 7.078633333333333)"
      ]
     },
     "metadata": {},
     "execution_count": 5
    }
   ],
   "source": [
    "import re\n",
    "dms_re = re.compile(\"([+-])\\s*(\\d+)[^\\d]+\\s*(\\d+)[^\\d]+\\s*([\\d.]+)[^\\d]+,\\s*([+-])\\s*(\\d+)[^\\d]+\\s*(\\d+)[^\\d]+\\s*([\\d.]+)[^d]+\")\n",
    "\n",
    "def dms_to_dd(s):\n",
    "    \"\"\"Convert a string of the form +43°37′3.66\",+7°4′43.08\" (DMS notation) to a couple of float (DD notation).\"\"\"\n",
    "    m = dms_re.search(s)\n",
    "    latitude = float(m.group(2)) + float(m.group(3))/60 + float(m.group(4))/(60**2)\n",
    "    if m.group(1) == '-':\n",
    "        latitude = -latitude\n",
    "    longitude = float(m.group(6)) + float(m.group(7))/60 + float(m.group(8))/(60**2)\n",
    "    if m.group(5) == '-':\n",
    "        longitude = - longitude\n",
    "    return (latitude, longitude)\n",
    "\n",
    "\n",
    "(lat, lon) = dms_to_dd(location)\n",
    "(lat, lon)\n"
   ]
  },
  {
   "cell_type": "markdown",
   "metadata": {},
   "source": [
    "Let's consider we are in France and take the reference meridian phi0 = 7 degrees."
   ]
  },
  {
   "cell_type": "code",
   "execution_count": 6,
   "metadata": {},
   "outputs": [],
   "source": [
    "lon0 = 7."
   ]
  },
  {
   "cell_type": "markdown",
   "metadata": {},
   "source": [
    "Here is a function to convert from DD coordinates in the wsg84 geodesic system to UTM coordinates.\n",
    "\n",
    "(ref: http://fr.wikipedia.org/wiki/Transverse_Universelle_de_Mercator).\n",
    "\n",
    "Note: at some point, it might be worth to check the english page of Wikipedia that also comes with the reverse operation."
   ]
  },
  {
   "cell_type": "code",
   "execution_count": 8,
   "metadata": {},
   "outputs": [
    {
     "output_type": "execute_result",
     "data": {
      "text/plain": [
       "(506344.6985955992, 4829414.195055106)"
      ]
     },
     "metadata": {},
     "execution_count": 8
    }
   ],
   "source": [
    "def wsg84_to_umt(lat, lon, lon0=None):\n",
    "    \"\"\"\n",
    "    Convert from WSG84 coordinates in the geodesic system in DD format (e.g. (lat, lon) in degrees) to UTM coordinates (x, y) in metres.\n",
    "    The reference meridian is given in lon0.\n",
    "    \"\"\"\n",
    "    if lon0 is None:\n",
    "        lon0 = float(int(lon))\n",
    "    # convert from degree to radian\n",
    "    lat = 2.*pi*lat/360.\n",
    "    lon = 2.*pi*lon/360.\n",
    "    lon0 = 2.*pi*lon0/360.\n",
    "    # ref of the calculus below: http://fr.wikipedia.org/wiki/Transverse_Universelle_de_Mercator\n",
    "    e = 0.0818192\n",
    "    a = 6378.137\n",
    "    v = 1. / sqrt(1. - e**2 * sin(lat)**2)\n",
    "    A = (lon-lon0) * cos(lat)\n",
    "    s = (1. - e**2/4. - 3*e**4/64. - 5*e**6/256.) * lat\n",
    "    s -= (3*e**2/8. + 3*e**4/32. + 45*e**6/1024.) * sin(2.*lat)\n",
    "    s += (15.*e**4/256. + 45*e**6/1024.) * sin(4.*lat)\n",
    "    s -= (35*e**6/3072.) * sin(6*lat)\n",
    "    T = tan(lat)**2\n",
    "    C = e**2 / (1.-e**2) * cos(lat)**2\n",
    "    k0 = 0.9996\n",
    "    if(lat >= 0):\n",
    "        N0 = 0.\n",
    "    else:\n",
    "        N0 = 10000\n",
    "    E = 500. + k0*a*v*(A + (1.-T+C)*A**3/6. + (5-18*T+T**2)*A**5/120.)\n",
    "    N = N0 + k0*a*(s+v*tan(lat)*(A**2/2+(5-T+9*C+4*C**2)*A**4/24+(61-58*T+T**2)*A**6/720))\n",
    "    return (E*1000, N*1000)\n",
    "\n",
    "wsg84_to_umt(lat, lon, lon0)"
   ]
  },
  {
   "cell_type": "markdown",
   "metadata": {},
   "source": [
    "Let's check with the example from wikipedia's page:\n",
    "(ref: http://fr.wikipedia.org/wiki/Transverse_Universelle_de_Mercator)"
   ]
  },
  {
   "cell_type": "code",
   "execution_count": 10,
   "metadata": {},
   "outputs": [
    {
     "output_type": "execute_result",
     "data": {
      "text/plain": [
       "True"
      ]
     },
     "metadata": {},
     "execution_count": 10
    }
   ],
   "source": [
    "(lat, lon) = dms_to_dd('''+45°09′43.08\",+5°50′51\"''')\n",
    "(e, n) = wsg84_to_umt(lat, lon, 3.)\n",
    "(723792, 5004888) == (int(e), int(n))"
   ]
  },
  {
   "cell_type": "code",
   "execution_count": 13,
   "metadata": {},
   "outputs": [
    {
     "output_type": "execute_result",
     "data": {
      "text/plain": [
       "(506344.6985955992, 4829414.195055106)"
      ]
     },
     "metadata": {},
     "execution_count": 13
    }
   ],
   "source": [
    "wsg84_to_umt(*dms_to_dd(location))"
   ]
  },
  {
   "cell_type": "markdown",
   "metadata": {},
   "source": [
    "Let's compare measure from IGN map and GPS coordinates from wikipedia."
   ]
  },
  {
   "cell_type": "code",
   "execution_count": 16,
   "metadata": {},
   "outputs": [],
   "source": [
    "points = [\n",
    "    (\"Aiguille du Midi\", (13*40+2, 11*40+29), 35.5, \"+45° 52′ 43″, +6° 53′ 14″\"),\n",
    "    (\"Mont Blanc du Tacul\", (13*40+1, 9*40+11), 45.0, \"+45° 51′ 24″, +6° 53′ 16″\"),\n",
    "    (\"Mont Maudit\", (12*40+3, 8*40+12), 56.3, \"+45° 50′ 52″, +6° 52′ 33″\"),\n",
    "    (\"Mont Blanc\", (11*40+5, 6*40+27),  65.8, \"+45° 49′ 57″, +6° 51′ 53″\"),\n",
    "    (\"Dome du Gouter\",  (9*40+21, 7*40+33),  80.4, \"+45° 50′ 34″, +6° 50′ 36″\"),\n",
    "    (\"Aiguille du Gouter\",  (8*40+25, 8*40+3),  92.3, \"+45° 51′ 02″, +6° 49′ 52″\"),\n",
    "    (\"Aiguille de Bionnassay\",  (7*40+23, 7*40+6),  97.2, \"+45° 50′ 09″, +6° 49′ 05″\")\n",
    "]"
   ]
  },
  {
   "cell_type": "markdown",
   "metadata": {},
   "source": [
    "Let's have both coordinates together with same scalre (meters)."
   ]
  },
  {
   "cell_type": "code",
   "execution_count": 18,
   "metadata": {},
   "outputs": [
    {
     "output_type": "execute_result",
     "data": {
      "text/plain": [
       "[((13050, 11725), (568849.6664404997, 5080943.178602797)),\n",
       " ((13025, 9275), (568919.894701822, 5078505.544897098)),\n",
       " ((12075, 8300), (568003.4598252792, 5077507.715586104)),\n",
       " ((11125, 6675), (567159.1268773016, 5075800.900087536)),\n",
       " ((9525, 7825), (565485.8923633278, 5076925.033257393)),\n",
       " ((8625, 8075), (564527.8291993187, 5077779.221778985)),\n",
       " ((7575, 7150), (563530.9482673384, 5076133.063705153))]"
      ]
     },
     "metadata": {},
     "execution_count": 18
    }
   ],
   "source": [
    "coords = [((p[1][0]*25, p[1][1]*25), wsg84_to_umt(*dms_to_dd(p[3]))) for p in points]\n",
    "coords"
   ]
  },
  {
   "cell_type": "markdown",
   "metadata": {},
   "source": [
    "Let's correct the fact that the origin is not the same."
   ]
  },
  {
   "cell_type": "code",
   "execution_count": 19,
   "metadata": {},
   "outputs": [
    {
     "output_type": "execute_result",
     "data": {
      "text/plain": [
       "(555799.6664404997, 5069218.178602797)"
      ]
     },
     "metadata": {},
     "execution_count": 19
    }
   ],
   "source": [
    "x0 = coords[0][1][0]-coords[0][0][0]\n",
    "y0 = coords[0][1][1]-coords[0][0][1]\n",
    "(x0, y0)"
   ]
  },
  {
   "cell_type": "code",
   "execution_count": 20,
   "metadata": {},
   "outputs": [
    {
     "output_type": "execute_result",
     "data": {
      "text/plain": [
       "[((568849.6664404997, 5080943.178602797),\n",
       "  (568849.6664404997, 5080943.178602797)),\n",
       " ((568824.6664404997, 5078493.178602797),\n",
       "  (568919.894701822, 5078505.544897098)),\n",
       " ((567874.6664404997, 5077518.178602797),\n",
       "  (568003.4598252792, 5077507.715586104)),\n",
       " ((566924.6664404997, 5075893.178602797),\n",
       "  (567159.1268773016, 5075800.900087536)),\n",
       " ((565324.6664404997, 5077043.178602797),\n",
       "  (565485.8923633278, 5076925.033257393)),\n",
       " ((564424.6664404997, 5077293.178602797),\n",
       "  (564527.8291993187, 5077779.221778985)),\n",
       " ((563374.6664404997, 5076368.178602797),\n",
       "  (563530.9482673384, 5076133.063705153))]"
      ]
     },
     "metadata": {},
     "execution_count": 20
    }
   ],
   "source": [
    "corrected_coord = [((c[0][0]+x0, c[0][1]+y0), c[1]) for c in coords]\n",
    "corrected_coord"
   ]
  },
  {
   "cell_type": "markdown",
   "metadata": {},
   "source": [
    "Errors on X and Y"
   ]
  },
  {
   "cell_type": "code",
   "execution_count": 21,
   "metadata": {},
   "outputs": [
    {
     "output_type": "execute_result",
     "data": {
      "text/plain": [
       "[(0.0, 0.0),\n",
       " (95.22826132224873, 12.366294301114976),\n",
       " (128.7933847794775, -10.46301669254899),\n",
       " (234.46043680189177, -92.27851526066661),\n",
       " (161.22592282807454, -118.14534540381283),\n",
       " (103.16275881894398, 486.04317618813366),\n",
       " (156.28182683873456, -235.11489764414728)]"
      ]
     },
     "metadata": {},
     "execution_count": 21
    }
   ],
   "source": [
    "errors = [(cc[1][0]-cc[0][0], cc[1][1]-cc[0][1])for cc in corrected_coord]\n",
    "errors"
   ]
  },
  {
   "cell_type": "markdown",
   "metadata": {},
   "source": [
    "Distance between the two coordinates (in metres)."
   ]
  },
  {
   "cell_type": "code",
   "execution_count": 22,
   "metadata": {},
   "outputs": [
    {
     "output_type": "execute_result",
     "data": {
      "text/plain": [
       "[0.0,\n",
       " 96.02784486387417,\n",
       " 129.21768718431355,\n",
       " 251.96630886697326,\n",
       " 199.88026624044326,\n",
       " 496.87073160549994,\n",
       " 282.31724087322414]"
      ]
     },
     "metadata": {},
     "execution_count": 22
    }
   ],
   "source": [
    "[sqrt(e[0]**2+e[1]**2) for e in errors]"
   ]
  },
  {
   "cell_type": "markdown",
   "metadata": {},
   "source": [
    "Erros are big but not so big...\n",
    "Meaning, the computations done above \"make sense\" but are not very precise.\n",
    "Next step is probably to check UTM computation done here vs what's on the IGN map."
   ]
  },
  {
   "cell_type": "code",
   "execution_count": 25,
   "metadata": {},
   "outputs": [
    {
     "output_type": "stream",
     "name": "stdout",
     "text": [
      "(334163.36666377855, 5077654.467275109)\n"
     ]
    }
   ],
   "source": [
    "mtblanc = points[3]\n",
    "mtblancdd = dms_to_dd(mtblanc[3])\n",
    "print(wsg84_to_umt(*mtblancdd, 9))"
   ]
  },
  {
   "cell_type": "code",
   "execution_count": 26,
   "metadata": {},
   "outputs": [
    {
     "output_type": "execute_result",
     "data": {
      "text/plain": [
       "(334163.3668251076, 5077654.472746319, 32, 'T')"
      ]
     },
     "metadata": {},
     "execution_count": 26
    }
   ],
   "source": [
    "utm.from_latlon(mtblancdd[0], mtblancdd[1])"
   ]
  },
  {
   "cell_type": "code",
   "execution_count": 27,
   "metadata": {},
   "outputs": [
    {
     "output_type": "execute_result",
     "data": {
      "text/plain": [
       "('Mont Blanc', (445, 267), 65.8, '+45° 49′ 57″, +6° 51′ 53″')"
      ]
     },
     "metadata": {},
     "execution_count": 27
    }
   ],
   "source": [
    "mtblanc"
   ]
  },
  {
   "cell_type": "code",
   "execution_count": 28,
   "metadata": {},
   "outputs": [
    {
     "output_type": "execute_result",
     "data": {
      "text/plain": [
       "0.125"
      ]
     },
     "metadata": {},
     "execution_count": 28
    }
   ],
   "source": [
    "1./8."
   ]
  },
  {
   "cell_type": "code",
   "execution_count": 29,
   "metadata": {},
   "outputs": [
    {
     "output_type": "execute_result",
     "data": {
      "text/plain": [
       "0.675"
      ]
     },
     "metadata": {},
     "execution_count": 29
    }
   ],
   "source": [
    "27./40."
   ]
  },
  {
   "cell_type": "code",
   "execution_count": null,
   "metadata": {},
   "outputs": [],
   "source": []
  }
 ],
 "metadata": {
  "kernelspec": {
   "display_name": "Python 3",
   "language": "python",
   "name": "python3"
  },
  "language_info": {
   "codemirror_mode": {
    "name": "ipython",
    "version": 3
   },
   "file_extension": ".py",
   "mimetype": "text/x-python",
   "name": "python",
   "nbconvert_exporter": "python",
   "pygments_lexer": "ipython3",
   "version": "3.8.0-final"
  }
 },
 "nbformat": 4,
 "nbformat_minor": 1
}