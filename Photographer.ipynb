{
 "metadata": {
  "name": "Photographer"
 }, 
 "nbformat": 2, 
 "worksheets": [
  {
   "cells": [
    {
     "cell_type": "markdown", 
     "source": [
      "Compute the position of the center of the lens (O) based on the positions of:", 
      "", 
      "- the photographer (P)", 
      "", 
      "- three summits (A, C, E)", 
      "The lens is assumed to be orthogonal with OP.", 
      "", 
      "A', C' and E' are the projection of A, C and E on the lens."
     ]
    }, 
    {
     "cell_type": "markdown", 
     "source": [
      "Let's import everything we need..."
     ]
    }, 
    {
     "cell_type": "code", 
     "collapsed": true, 
     "input": [
      "from sympy import symbols, diff, init_printing, solve", 
      "from sympy.geometry import Point, Line, Segment, intersection", 
      "init_printing(pretty_print=True, use_unicode=True)"
     ], 
     "language": "python", 
     "outputs": [], 
     "prompt_number": 7
    }, 
    {
     "cell_type": "markdown", 
     "source": [
      "Let's define the various points:"
     ]
    }, 
    {
     "cell_type": "code", 
     "collapsed": true, 
     "input": [
      "xA, yA, xC, yC, xE, yE, xO, yO = symbols('xA yA xC yC xE yE xO yO')", 
      "A = Point(xA, yA)", 
      "C = Point(xC, yC)", 
      "E = Point(xE, yE)", 
      "O = Point(xO, yO)"
     ], 
     "language": "python", 
     "outputs": [], 
     "prompt_number": 8
    }, 
    {
     "cell_type": "markdown", 
     "source": [
      "__Step1: Compute the orientation__", 
      "", 
      "In this step, the lens is assumed to cross the middle of OA.", 
      "So, A' is an invariant in this step.", 
      "", 
      "Then, let's find C' to ensure that A'B'/A'C' is as close as possible to DeltaAB/DeltaAC.", 
      "(DeltaAB and DeltaAC are the distance, on the picture, between A and B or A and C.)", 
      "", 
      "Note that if the photographer's position is right, we should have A'B'/A'C' = DeltaAB/DeltaAC.", 
      "", 
      "At the end of this step, we'll have found the right orientation of the lens. Though, the position of the lens will still be unknown, though."
     ]
    }, 
    {
     "cell_type": "markdown", 
     "source": [
      "A' is in the middle of A and O:"
     ]
    }, 
    {
     "cell_type": "code", 
     "collapsed": true, 
     "input": [
      "A_ = A.midpoint(O)"
     ], 
     "language": "python", 
     "outputs": [], 
     "prompt_number": 9
    }, 
    {
     "cell_type": "markdown", 
     "source": [
      "E' is somewhere between O and E depending on the value alpha:"
     ]
    }, 
    {
     "cell_type": "code", 
     "collapsed": true, 
     "input": [
      "alpha = symbols('alpha')", 
      "E_ = Point((1-alpha)*O.x + alpha*E.x,", 
      "           (1-alpha)*O.y + alpha*E.y)"
     ], 
     "language": "python", 
     "outputs": [], 
     "prompt_number": 10
    }, 
    {
     "cell_type": "markdown", 
     "source": [
      "Once we have A' and E', let's find C' which is at the intersection of A'E' (the lens) and EO (the light beam): "
     ]
    }, 
    {
     "cell_type": "code", 
     "collapsed": false, 
     "input": [
      "C_ = intersection(Line(O, C), Line(A_, E_))[0]", 
      "C_"
     ], 
     "language": "python", 
     "outputs": [
      {
       "latex": [
        "$$Point(((xC - xO)*((xA + xO)*(alpha*yE - yO*(alpha - 1)) - (yA + yO)*(alpha*xE - xO*(alpha - 1))) + (xC*yO - xO*yC)*(2*alpha*xE - 2*alpha*xO - xA + xO))/((xC - xO)*(2*alpha*yE - 2*alpha*yO - yA + yO) - (yC - yO)*(2*alpha*xE - 2*alpha*xO - xA + xO)), ((yC - yO)*((xA + xO)*(alpha*yE - yO*(alpha - 1)) - (yA + yO)*(alpha*xE - xO*(alpha - 1))) + (xC*yO - xO*yC)*(2*alpha*yE - 2*alpha*yO - yA + yO))/((xC - xO)*(2*alpha*yE - 2*alpha*yO - yA + yO) - (yC - yO)*(2*alpha*xE - 2*alpha*xO - xA + xO)))$$"
       ], 
       "output_type": "pyout", 
       "png": "[encoded data removed]", 
       "prompt_number": 36, 
       "text": [
        "Point(((xC - xO)*((xA + xO)*(alpha*yE - yO*(alpha - 1)) - (yA + yO)*(alpha*xE ", 
        "- xO*(alpha - 1))) + (xC*yO - xO*yC)*(2*alpha*xE - 2*alpha*xO - xA + xO))/((xC", 
        " - xO)*(2*alpha*yE - 2*alpha*yO - yA + yO) - (yC - yO)*(2*alpha*xE - 2*alpha*x", 
        "O - xA + xO)), ((yC - yO)*((xA + xO)*(alpha*yE - yO*(alpha - 1)) - (yA + yO)*(", 
        "alpha*xE - xO*(alpha - 1))) + (xC*yO - xO*yC)*(2*alpha*yE - 2*alpha*yO - yA + ", 
        "yO))/((xC - xO)*(2*alpha*yE - 2*alpha*yO - yA + yO) - (yC - yO)*(2*alpha*xE - ", 
        "2*alpha*xO - xA + xO)))"
       ]
      }
     ], 
     "prompt_number": 36
    }, 
    {
     "cell_type": "markdown", 
     "source": [
      "Now, let's find alpha such as the orientation of the lens is such as the relative distance between the summits is respected compared to what we have on the picture.", 
      "", 
      "In order to do that, we want to minimize the abs value of the error defined as follow (if the photographer is at the right position, we should get error=0).", 
      "", 
      "error = (A'E'/A'C') - ((deltaE-deltaA)/(deltaC-deltaA))", 
      "", 
      "Let's remove the constant part which will disappear in the diff:", 
      "", 
      "error = A'E'/A'C'", 
      "", 
      "As A'E' and A'C' are colinear, there exist gamma such as:", 
      "", 
      "A'E' = gamma*(xE'-xA')", 
      "A'C' = gamma*(xC'-xA')", 
      "", 
      "Then, we can simplify further and minimize:", 
      "", 
      "error = (xE'-xA') / (xC'-xA')"
     ]
    }, 
    {
     "cell_type": "code", 
     "collapsed": false, 
     "input": [
      "error = (E_.x-A_.x) / (C_.x-A_.x)", 
      "error"
     ], 
     "language": "python", 
     "outputs": [
      {
       "latex": [
        "$$\\frac{\\alpha xE - \\frac{xA}{2} - xO \\left(\\alpha - 1\\right) - \\frac{xO}{2}}{- \\frac{xA}{2} - \\frac{xO}{2} + \\frac{\\left(xC - xO\\right) \\left(\\left(xA + xO\\right) \\left(\\alpha yE - yO \\left(\\alpha - 1\\right)\\right) - \\left(yA + yO\\right) \\left(\\alpha xE - xO \\left(\\alpha - 1\\right)\\right)\\right) + \\left(xC yO - xO yC\\right) \\left(2 \\alpha xE - 2 \\alpha xO - xA + xO\\right)}{\\left(xC - xO\\right) \\left(2 \\alpha yE - 2 \\alpha yO - yA + yO\\right) - \\left(yC - yO\\right) \\left(2 \\alpha xE - 2 \\alpha xO - xA + xO\\right)}}$$"
       ], 
       "output_type": "pyout", 
       "png": "[encoded data removed]", 
       "prompt_number": 32, 
       "text": [
        "                                                           xA                x", 
        "                                                    \u03b1\u22c5xE - \u2500\u2500 - xO\u22c5(\u03b1 - 1) - \u2500", 
        "                                                           2                 2", 
        "\u2500\u2500\u2500\u2500\u2500\u2500\u2500\u2500\u2500\u2500\u2500\u2500\u2500\u2500\u2500\u2500\u2500\u2500\u2500\u2500\u2500\u2500\u2500\u2500\u2500\u2500\u2500\u2500\u2500\u2500\u2500\u2500\u2500\u2500\u2500\u2500\u2500\u2500\u2500\u2500\u2500\u2500\u2500\u2500\u2500\u2500\u2500\u2500\u2500\u2500\u2500\u2500\u2500\u2500\u2500\u2500\u2500\u2500\u2500\u2500\u2500\u2500\u2500\u2500\u2500\u2500\u2500\u2500\u2500\u2500\u2500\u2500\u2500\u2500\u2500\u2500\u2500\u2500", 
        "  xA   xO   (xC - xO)\u22c5((xA + xO)\u22c5(\u03b1\u22c5yE - yO\u22c5(\u03b1 - 1)) - (yA + yO)\u22c5(\u03b1\u22c5xE - xO\u22c5(\u03b1", 
        "- \u2500\u2500 - \u2500\u2500 + \u2500\u2500\u2500\u2500\u2500\u2500\u2500\u2500\u2500\u2500\u2500\u2500\u2500\u2500\u2500\u2500\u2500\u2500\u2500\u2500\u2500\u2500\u2500\u2500\u2500\u2500\u2500\u2500\u2500\u2500\u2500\u2500\u2500\u2500\u2500\u2500\u2500\u2500\u2500\u2500\u2500\u2500\u2500\u2500\u2500\u2500\u2500\u2500\u2500\u2500\u2500\u2500\u2500\u2500\u2500\u2500\u2500\u2500\u2500\u2500\u2500\u2500\u2500\u2500\u2500\u2500", 
        "  2    2                         (xC - xO)\u22c5(2\u22c5\u03b1\u22c5yE - 2\u22c5\u03b1\u22c5yO - yA + yO) - (yC -", 
        "", 
        "O                                                    ", 
        "\u2500                                                    ", 
        "                                                     ", 
        "\u2500\u2500\u2500\u2500\u2500\u2500\u2500\u2500\u2500\u2500\u2500\u2500\u2500\u2500\u2500\u2500\u2500\u2500\u2500\u2500\u2500\u2500\u2500\u2500\u2500\u2500\u2500\u2500\u2500\u2500\u2500\u2500\u2500\u2500\u2500\u2500\u2500\u2500\u2500\u2500\u2500\u2500\u2500\u2500\u2500\u2500\u2500\u2500\u2500\u2500\u2500\u2500\u2500", 
        " - 1))) + (xC\u22c5yO - xO\u22c5yC)\u22c5(2\u22c5\u03b1\u22c5xE - 2\u22c5\u03b1\u22c5xO - xA + xO)", 
        "\u2500\u2500\u2500\u2500\u2500\u2500\u2500\u2500\u2500\u2500\u2500\u2500\u2500\u2500\u2500\u2500\u2500\u2500\u2500\u2500\u2500\u2500\u2500\u2500\u2500\u2500\u2500\u2500\u2500\u2500\u2500\u2500\u2500\u2500\u2500\u2500\u2500\u2500\u2500\u2500\u2500\u2500\u2500\u2500\u2500\u2500\u2500\u2500\u2500\u2500\u2500\u2500\u2500", 
        " yO)\u22c5(2\u22c5\u03b1\u22c5xE - 2\u22c5\u03b1\u22c5xO - xA + xO)                     "
       ]
      }
     ], 
     "prompt_number": 32
    }, 
    {
     "cell_type": "code", 
     "collapsed": false, 
     "input": [
      "errornum = error.as_numer_denom()[0]", 
      "errornum"
     ], 
     "language": "python", 
     "outputs": [
      {
       "latex": [
        "$$2 \\left(\\left(xC - xO\\right) \\left(2 \\alpha yE - 2 \\alpha yO - yA + yO\\right) - \\left(yC - yO\\right) \\left(2 \\alpha xE - 2 \\alpha xO - xA + xO\\right)\\right) \\left(2 \\alpha xE - xA - 2 xO \\left(\\alpha - 1\\right) - xO\\right)$$"
       ], 
       "output_type": "pyout", 
       "png": "[encoded data removed]", 
       "prompt_number": 33, 
       "text": [
        "2\u22c5((xC - xO)\u22c5(2\u22c5\u03b1\u22c5yE - 2\u22c5\u03b1\u22c5yO - yA + yO) - (yC - yO)\u22c5(2\u22c5\u03b1\u22c5xE - 2\u22c5\u03b1\u22c5xO - xA + x", 
        "O))\u22c5(2\u22c5\u03b1\u22c5xE - xA - 2\u22c5xO\u22c5(\u03b1 - 1) - xO)"
       ]
      }
     ], 
     "prompt_number": 33
    }, 
    {
     "cell_type": "code", 
     "collapsed": false, 
     "input": [
      "differror = diff(errornum, alpha)", 
      "differror"
     ], 
     "language": "python", 
     "outputs": [
      {
       "latex": [
        "$$2 \\left(2 xE - 2 xO\\right) \\left(\\left(xC - xO\\right) \\left(2 \\alpha yE - 2 \\alpha yO - yA + yO\\right) - \\left(yC - yO\\right) \\left(2 \\alpha xE - 2 \\alpha xO - xA + xO\\right)\\right) + 2 \\left(\\left(xC - xO\\right) \\left(2 yE - 2 yO\\right) - \\left(2 xE - 2 xO\\right) \\left(yC - yO\\right)\\right) \\left(2 \\alpha xE - xA - 2 xO \\left(\\alpha - 1\\right) - xO\\right)$$"
       ], 
       "output_type": "pyout", 
       "png": "[encoded data removed]", 
       "prompt_number": 34, 
       "text": [
        "2\u22c5(2\u22c5xE - 2\u22c5xO)\u22c5((xC - xO)\u22c5(2\u22c5\u03b1\u22c5yE - 2\u22c5\u03b1\u22c5yO - yA + yO) - (yC - yO)\u22c5(2\u22c5\u03b1\u22c5xE - 2", 
        "\u22c5\u03b1\u22c5xO - xA + xO)) + 2\u22c5((xC - xO)\u22c5(2\u22c5yE - 2\u22c5yO) - (2\u22c5xE - 2\u22c5xO)\u22c5(yC - yO))\u22c5(2\u22c5\u03b1", 
        "\u22c5xE - xA - 2\u22c5xO\u22c5(\u03b1 - 1) - xO)"
       ]
      }
     ], 
     "prompt_number": 34
    }, 
    {
     "cell_type": "code", 
     "collapsed": false, 
     "input": [
      "solutions = solve(differror, alpha)", 
      "len(solutions)"
     ], 
     "language": "python", 
     "outputs": [
      {
       "latex": [
        "$$1$$"
       ], 
       "output_type": "pyout", 
       "png": "[encoded data removed]", 
       "prompt_number": 70, 
       "text": [
        "1"
       ]
      }
     ], 
     "prompt_number": 70
    }, 
    {
     "cell_type": "code", 
     "collapsed": false, 
     "input": [
      "sol = solutions[0]", 
      "sol"
     ], 
     "language": "python", 
     "outputs": [
      {
       "latex": [
        "$$\\frac{- xA xC yE + xA xC yO + 2 xA xE yC - 2 xA xE yO - 2 xA xO yC + xA xO yE + xA xO yO - xC xE yA + xC xE yO + xC xO yA + xC xO yE - 2 xC xO yO + xE xO yA - 2 xE xO yC + xE xO yO - xO^{2} yA + 2 xO^{2} yC - xO^{2} yE}{- 4 xC xE yE + 4 xC xE yO + 4 xC xO yE - 4 xC xO yO + 4 xE^{2} yC - 4 xE^{2} yO - 8 xE xO yC + 4 xE xO yE + 4 xE xO yO + 4 xO^{2} yC - 4 xO^{2} yE}$$"
       ], 
       "output_type": "pyout", 
       "png": "[encoded data removed]", 
       "prompt_number": 71, 
       "text": [
        "                                                                              ", 
        "-xA\u22c5xC\u22c5yE + xA\u22c5xC\u22c5yO + 2\u22c5xA\u22c5xE\u22c5yC - 2\u22c5xA\u22c5xE\u22c5yO - 2\u22c5xA\u22c5xO\u22c5yC + xA\u22c5xO\u22c5yE + xA\u22c5xO", 
        "\u2500\u2500\u2500\u2500\u2500\u2500\u2500\u2500\u2500\u2500\u2500\u2500\u2500\u2500\u2500\u2500\u2500\u2500\u2500\u2500\u2500\u2500\u2500\u2500\u2500\u2500\u2500\u2500\u2500\u2500\u2500\u2500\u2500\u2500\u2500\u2500\u2500\u2500\u2500\u2500\u2500\u2500\u2500\u2500\u2500\u2500\u2500\u2500\u2500\u2500\u2500\u2500\u2500\u2500\u2500\u2500\u2500\u2500\u2500\u2500\u2500\u2500\u2500\u2500\u2500\u2500\u2500\u2500\u2500\u2500\u2500\u2500\u2500\u2500\u2500\u2500\u2500\u2500", 
        "                                            \u239b                                 ", 
        "                                          4\u22c5\u239d-xC\u22c5xE\u22c5yE + xC\u22c5xE\u22c5yO + xC\u22c5xO\u22c5yE -", 
        "", 
        "                                                                              ", 
        "\u22c5yO - xC\u22c5xE\u22c5yA + xC\u22c5xE\u22c5yO + xC\u22c5xO\u22c5yA + xC\u22c5xO\u22c5yE - 2\u22c5xC\u22c5xO\u22c5yO + xE\u22c5xO\u22c5yA - 2\u22c5xE", 
        "\u2500\u2500\u2500\u2500\u2500\u2500\u2500\u2500\u2500\u2500\u2500\u2500\u2500\u2500\u2500\u2500\u2500\u2500\u2500\u2500\u2500\u2500\u2500\u2500\u2500\u2500\u2500\u2500\u2500\u2500\u2500\u2500\u2500\u2500\u2500\u2500\u2500\u2500\u2500\u2500\u2500\u2500\u2500\u2500\u2500\u2500\u2500\u2500\u2500\u2500\u2500\u2500\u2500\u2500\u2500\u2500\u2500\u2500\u2500\u2500\u2500\u2500\u2500\u2500\u2500\u2500\u2500\u2500\u2500\u2500\u2500\u2500\u2500\u2500\u2500\u2500\u2500\u2500", 
        "              2        2                                           2        2 ", 
        " xC\u22c5xO\u22c5yO + xE \u22c5yC - xE \u22c5yO - 2\u22c5xE\u22c5xO\u22c5yC + xE\u22c5xO\u22c5yE + xE\u22c5xO\u22c5yO + xO \u22c5yC - xO \u22c5", 
        "", 
        "                      2          2        2   ", 
        "\u22c5xO\u22c5yC + xE\u22c5xO\u22c5yO - xO \u22c5yA + 2\u22c5xO \u22c5yC - xO \u22c5yE", 
        "\u2500\u2500\u2500\u2500\u2500\u2500\u2500\u2500\u2500\u2500\u2500\u2500\u2500\u2500\u2500\u2500\u2500\u2500\u2500\u2500\u2500\u2500\u2500\u2500\u2500\u2500\u2500\u2500\u2500\u2500\u2500\u2500\u2500\u2500\u2500\u2500\u2500\u2500\u2500\u2500\u2500\u2500\u2500\u2500\u2500\u2500", 
        "  \u239e                                           ", 
        "yE\u23a0                                           "
       ]
      }
     ], 
     "prompt_number": 71
    }, 
    {
     "cell_type": "code", 
     "collapsed": true, 
     "input": [], 
     "language": "python", 
     "outputs": []
    }
   ]
  }
 ]
}