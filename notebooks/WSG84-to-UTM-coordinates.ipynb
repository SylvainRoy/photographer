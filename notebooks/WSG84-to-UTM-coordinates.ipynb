{
 "metadata": {
  "name": "WSG84-to-UTM-coordinates"
 },
 "nbformat": 3,
 "nbformat_minor": 0,
 "worksheets": [
  {
   "cells": [
    {
     "cell_type": "code",
     "collapsed": false,
     "input": [
      "from math import sqrt, sin, cos, tan, pi"
     ],
     "language": "python",
     "metadata": {},
     "outputs": [],
     "prompt_number": 83
    },
    {
     "cell_type": "markdown",
     "metadata": {},
     "source": [
      "Google maps returns locations in the systeme geodesique WGS84 using the DMS notation:"
     ]
    },
    {
     "cell_type": "code",
     "collapsed": false,
     "input": [
      "# Location of our home:\n",
      "location = '''+43\u00b037\u20323.66\",+7\u00b04\u203243.08\"'''"
     ],
     "language": "python",
     "metadata": {},
     "outputs": [],
     "prompt_number": 84
    },
    {
     "cell_type": "markdown",
     "metadata": {},
     "source": [
      "Let's convert that to the DD notation:"
     ]
    },
    {
     "cell_type": "code",
     "collapsed": false,
     "input": [
      "import re\n",
      "dms_re = re.compile(\"([+-])\\s*(\\d+)[^\\d]+\\s*(\\d+)[^\\d]+\\s*([\\d.]+)[^\\d]+,\\s*([+-])\\s*(\\d+)[^\\d]+\\s*(\\d+)[^\\d]+\\s*([\\d.]+)[^d]+\")\n",
      "\n",
      "def dms_to_dd(s):\n",
      "    \"\"\"Convert a string of the form +43\u00b037\u20323.66\",+7\u00b04\u203243.08\" (DMS notation) to a couple of float (DD notation).\"\"\"\n",
      "    m = dms_re.search(s)\n",
      "    latitude = float(m.group(2)) + float(m.group(3))/60 + float(m.group(4))/(60**2)\n",
      "    if m.group(1) == '-':\n",
      "        latitude = -latitude\n",
      "    longitude = float(m.group(6)) + float(m.group(7))/60 + float(m.group(8))/(60**2)\n",
      "    if m.group(5) == '-':\n",
      "        longitude = - longitude\n",
      "    return (latitude, longitude)\n",
      "\n",
      "\n",
      "(lat, lon) = dms_to_dd(location)\n",
      "(lat, lon)\n"
     ],
     "language": "python",
     "metadata": {},
     "outputs": [
      {
       "output_type": "pyout",
       "prompt_number": 85,
       "text": [
        "(43.61768333333333, 7.078633333333333)"
       ]
      }
     ],
     "prompt_number": 85
    },
    {
     "cell_type": "markdown",
     "metadata": {},
     "source": [
      "Let's consider we are in France and take the reference meridian phi0 = 7 degrees."
     ]
    },
    {
     "cell_type": "code",
     "collapsed": false,
     "input": [
      "lon0 = 7."
     ],
     "language": "python",
     "metadata": {},
     "outputs": [],
     "prompt_number": 86
    },
    {
     "cell_type": "markdown",
     "metadata": {},
     "source": [
      "Here is a function to convert from DD coordinates in the wsg84 geodesic system to UTM coordinates.\n",
      "\n",
      "(ref: http://fr.wikipedia.org/wiki/Transverse_Universelle_de_Mercator).\n",
      "\n",
      "Note: at some point, it might be worth to check the english page of Wikipedia that also comes with the reverse operation."
     ]
    },
    {
     "cell_type": "code",
     "collapsed": false,
     "input": [
      "def wsg84_to_umt((lat, lon), lon0=None):\n",
      "    \"\"\"\n",
      "    Convert from WSG84 coordinates in the geodesic system in DD format (e.g. (lat, lon) in degrees) to UTM coordinates (x, y) in metres.\n",
      "    The reference meridian is given in lon0.\n",
      "    \"\"\"\n",
      "    if lon0 is None:\n",
      "        lon0 = float(int(lon))\n",
      "    # convert from degree to radian\n",
      "    lat = 2.*pi*lat/360.\n",
      "    lon = 2.*pi*lon/360.\n",
      "    lon0 = 2.*pi*lon0/360.\n",
      "    # ref of the calculus below: http://fr.wikipedia.org/wiki/Transverse_Universelle_de_Mercator\n",
      "    e = 0.0818192\n",
      "    a = 6378.137\n",
      "    v = 1. / sqrt(1. - e**2 * sin(lat)**2)\n",
      "    A = (lon-lon0) * cos(lat)\n",
      "    s = (1. - e**2/4. - 3*e**4/64. - 5*e**6/256.) * lat\n",
      "    s -= (3*e**2/8. + 3*e**4/32. + 45*e**6/1024.) * sin(2.*lat)\n",
      "    s += (15.*e**4/256. + 45*e**6/1024.) * sin(4.*lat)\n",
      "    s -= (35*e**6/3072.) * sin(6*lat)\n",
      "    T = tan(lat)**2\n",
      "    C = e**2 / (1.-e**2) * cos(lat)**2\n",
      "    k0 = 0.9996\n",
      "    if(lat >= 0):\n",
      "        N0 = 0.\n",
      "    else:\n",
      "        N0 = 10000\n",
      "    E = 500. + k0*a*v*(A + (1.-T+C)*A**3/6. + (5-18*T+T**2)*A**5/120.)\n",
      "    N = N0 + k0*a*(s+v*tan(lat)*(A**2/2+(5-T+9*C+4*C**2)*A**4/24+(61-58*T+T**2)*A**6/720))\n",
      "    return (E*1000, N*1000)\n",
      "\n",
      "wsg84_to_umt((lat, lon), lon0)"
     ],
     "language": "python",
     "metadata": {},
     "outputs": [
      {
       "output_type": "pyout",
       "prompt_number": 90,
       "text": [
        "(506344.69859559915, 4829414.195055106)"
       ]
      }
     ],
     "prompt_number": 90
    },
    {
     "cell_type": "markdown",
     "metadata": {},
     "source": [
      "Let's check with the example from wikipedia's page:\n",
      "(ref: http://fr.wikipedia.org/wiki/Transverse_Universelle_de_Mercator)"
     ]
    },
    {
     "cell_type": "code",
     "collapsed": false,
     "input": [
      "(e, n) = wsg84_to_umt(dms_to_dd('''+45\u00b009\u203243.08\",+5\u00b050\u203251\"'''), 3.)\n",
      "(723792, 5004888) == (int(e), int(n))"
     ],
     "language": "python",
     "metadata": {},
     "outputs": [
      {
       "output_type": "pyout",
       "prompt_number": 91,
       "text": [
        "True"
       ]
      }
     ],
     "prompt_number": 91
    },
    {
     "cell_type": "code",
     "collapsed": false,
     "input": [
      "wsg84_to_umt(dms_to_dd(location))"
     ],
     "language": "python",
     "metadata": {},
     "outputs": [
      {
       "output_type": "pyout",
       "prompt_number": 92,
       "text": [
        "(506344.69859559915, 4829414.195055106)"
       ]
      }
     ],
     "prompt_number": 92
    },
    {
     "cell_type": "markdown",
     "metadata": {},
     "source": [
      "Let's compare measure from IGN map and GPS coordinates from wikipedia."
     ]
    },
    {
     "cell_type": "code",
     "collapsed": false,
     "input": [
      "points = [\n",
      "    (\"Aiguille du Midi\",\n",
      "     (13*40+2, 11*40+29),\n",
      "     35.5,\n",
      "     \"+45\u00b0 52\u2032 43\u2033, +6\u00b0 53\u2032 14\u2033\"),\n",
      "    (\"Mont Blanc du Tacul\",\n",
      "     (13*40+1, 9*40+11),\n",
      "     45.0,\n",
      "     \"+45\u00b0 51\u2032 24\u2033, +6\u00b0 53\u2032 16\u2033\"),\n",
      "    (\"Mont Maudit\",\n",
      "     (12*40+3, 8*40+12),\n",
      "     56.3,\n",
      "     \"+45\u00b0 50\u2032 52\u2033, +6\u00b0 52\u2032 33\u2033\"),\n",
      "    (\"Mont Blanc\",\n",
      "     (11*40+5, 6*40+27), \n",
      "     65.8,\n",
      "     \"+45\u00b0 49\u2032 57\u2033, +6\u00b0 51\u2032 53\u2033\"),\n",
      "    (\"Dome du Gouter\", \n",
      "     (9*40+21, 7*40+33), \n",
      "     80.4,\n",
      "     \"+45\u00b0 50\u2032 34\u2033, +6\u00b0 50\u2032 36\u2033\"),\n",
      "    (\"Aiguille du Gouter\", \n",
      "     (8*40+25, 8*40+3), \n",
      "     92.3,\n",
      "     \"+45\u00b0 51\u2032 02\u2033, +6\u00b0 49\u2032 52\u2033\"),\n",
      "    (\"Aiguille de Bionnassay\", \n",
      "     (7*40+23, 7*40+6), \n",
      "     97.2,\n",
      "     \"+45\u00b0 50\u2032 09\u2033, +6\u00b0 49\u2032 05\u2033\")\n",
      "    ]"
     ],
     "language": "python",
     "metadata": {},
     "outputs": [],
     "prompt_number": 93
    },
    {
     "cell_type": "markdown",
     "metadata": {},
     "source": [
      "Let's have both coordinates together with same scalre (meters)."
     ]
    },
    {
     "cell_type": "code",
     "collapsed": false,
     "input": [
      "coords = [((p[1][0]*25, p[1][1]*25), wsg84_to_umt(dms_to_dd(p[3]))) for p in points]\n",
      "coords"
     ],
     "language": "python",
     "metadata": {},
     "outputs": [
      {
       "output_type": "pyout",
       "prompt_number": 115,
       "text": [
        "[((13050, 11725), (568849.6664404997, 5080943.178602797)),\n",
        " ((13025, 9275), (568919.894701822, 5078505.544897098)),\n",
        " ((12075, 8300), (568003.4598252792, 5077507.715586104)),\n",
        " ((11125, 6675), (567159.1268773016, 5075800.900087536)),\n",
        " ((9525, 7825), (565485.8923633278, 5076925.033257393)),\n",
        " ((8625, 8075), (564527.8291993187, 5077779.221778985)),\n",
        " ((7575, 7150), (563530.9482673384, 5076133.063705153))]"
       ]
      }
     ],
     "prompt_number": 115
    },
    {
     "cell_type": "markdown",
     "metadata": {},
     "source": [
      "Let's correct the fact that the origin is not the same."
     ]
    },
    {
     "cell_type": "code",
     "collapsed": false,
     "input": [
      "x0 = coords[0][1][0]-coords[0][0][0]\n",
      "y0 = coords[0][1][1]-coords[0][0][1]\n",
      "(x0, y0)"
     ],
     "language": "python",
     "metadata": {},
     "outputs": [
      {
       "output_type": "pyout",
       "prompt_number": 116,
       "text": [
        "(555799.6664404997, 5069218.178602797)"
       ]
      }
     ],
     "prompt_number": 116
    },
    {
     "cell_type": "code",
     "collapsed": false,
     "input": [
      "corrected_coord = [((c[0][0]+x0, c[0][1]+y0), c[1]) for c in coords]\n",
      "corrected_coord"
     ],
     "language": "python",
     "metadata": {},
     "outputs": [
      {
       "output_type": "pyout",
       "prompt_number": 117,
       "text": [
        "[((568849.6664404997, 5080943.178602797),\n",
        "  (568849.6664404997, 5080943.178602797)),\n",
        " ((568824.6664404997, 5078493.178602797),\n",
        "  (568919.894701822, 5078505.544897098)),\n",
        " ((567874.6664404997, 5077518.178602797),\n",
        "  (568003.4598252792, 5077507.715586104)),\n",
        " ((566924.6664404997, 5075893.178602797),\n",
        "  (567159.1268773016, 5075800.900087536)),\n",
        " ((565324.6664404997, 5077043.178602797),\n",
        "  (565485.8923633278, 5076925.033257393)),\n",
        " ((564424.6664404997, 5077293.178602797),\n",
        "  (564527.8291993187, 5077779.221778985)),\n",
        " ((563374.6664404997, 5076368.178602797),\n",
        "  (563530.9482673384, 5076133.063705153))]"
       ]
      }
     ],
     "prompt_number": 117
    },
    {
     "cell_type": "markdown",
     "metadata": {},
     "source": [
      "Errors on X and Y"
     ]
    },
    {
     "cell_type": "code",
     "collapsed": false,
     "input": [
      "errors = [(cc[1][0]-cc[0][0], cc[1][1]-cc[0][1])for cc in corrected_coord]\n",
      "errors"
     ],
     "language": "python",
     "metadata": {},
     "outputs": [
      {
       "output_type": "pyout",
       "prompt_number": 112,
       "text": [
        "[(0.0, 0.0),\n",
        " (95.22826132224873, 12.366294301114976),\n",
        " (128.7933847794775, -10.46301669254899),\n",
        " (234.46043680189177, -92.27851526066661),\n",
        " (161.22592282807454, -118.14534540381283),\n",
        " (103.16275881894398, 486.04317618813366),\n",
        " (156.28182683873456, -235.11489764414728)]"
       ]
      }
     ],
     "prompt_number": 112
    },
    {
     "cell_type": "markdown",
     "metadata": {},
     "source": [
      "Distance between the two coordinates (in metres)."
     ]
    },
    {
     "cell_type": "code",
     "collapsed": false,
     "input": [
      "[sqrt(e[0]**2+e[1]**2) for e in errors]"
     ],
     "language": "python",
     "metadata": {},
     "outputs": [
      {
       "output_type": "pyout",
       "prompt_number": 118,
       "text": [
        "[0.0,\n",
        " 96.02784486387417,\n",
        " 129.21768718431355,\n",
        " 251.96630886697326,\n",
        " 199.88026624044326,\n",
        " 496.87073160549994,\n",
        " 282.31724087322414]"
       ]
      }
     ],
     "prompt_number": 118
    },
    {
     "cell_type": "markdown",
     "metadata": {},
     "source": [
      "Erros are big but not so big...\n",
      "Meaning, the computations done above \"make sense\" but are not very precise.\n",
      "Next step is probably to check UTM computation done here vs what's on the IGN map."
     ]
    },
    {
     "cell_type": "code",
     "collapsed": false,
     "input": [],
     "language": "python",
     "metadata": {},
     "outputs": []
    }
   ],
   "metadata": {}
  }
 ]
}