{
 "metadata": {
  "name": "Photographer"
 },
 "nbformat": 3,
 "nbformat_minor": 0,
 "worksheets": [
  {
   "cells": [
    {
     "cell_type": "markdown",
     "metadata": {},
     "source": [
      "__Compute the position of the lens__\n",
      "\n",
      "Compute the position of the center of the lens (O) based on the positions of:\n",
      "\n",
      "- the photographer (P)\n",
      "\n",
      "- three summits (A, C, E)\n",
      "The lens is assumed to be orthogonal with OP.\n",
      "\n",
      "A', C' and E' are the projection of A, C and E on the lens."
     ]
    },
    {
     "cell_type": "markdown",
     "metadata": {},
     "source": [
      "Let's import everything we need..."
     ]
    },
    {
     "cell_type": "code",
     "collapsed": true,
     "input": [
      "from sympy import symbols, diff, init_printing, solve\n",
      "from sympy.geometry import Point, Line, Segment, intersection\n",
      "init_printing(pretty_print=True, use_unicode=True)"
     ],
     "language": "python",
     "metadata": {},
     "outputs": [],
     "prompt_number": 1
    },
    {
     "cell_type": "markdown",
     "metadata": {},
     "source": [
      "Let's define the various points:"
     ]
    },
    {
     "cell_type": "code",
     "collapsed": true,
     "input": [
      "xA, yA, xC, yC, xE, yE, xP, yP = symbols('xA yA xC yC xE yE xP yP')\n",
      "A = Point(xA, yA)\n",
      "C = Point(xC, yC)\n",
      "E = Point(xE, yE)\n",
      "P = Point(xP, yP)"
     ],
     "language": "python",
     "metadata": {},
     "outputs": [],
     "prompt_number": 2
    },
    {
     "cell_type": "markdown",
     "metadata": {},
     "source": [
      "__Step1: Compute the orientation of the lens__\n",
      "\n",
      "In this step, the lens is assumed to cross the middle of $PA$.\n",
      "So, $A'$ is an invariant in this step.\n",
      "\n",
      "Then, let's find the position of $C'$ to ensure that $A'B'/A'C'$ is as close as possible to $DeltaAB/DeltaAC$.\n",
      "($DeltaAB$ and $DeltaAC$ are the distance, on the picture, between $A$ and $B$ or $A$ and $C$.)\n",
      "\n",
      "Note that if the photographer's position is right, we should have $A'B'/A'C' = DeltaAB/DeltaAC$.\n",
      "\n",
      "At the end of this step, we'll have found the right orientation of the lens. Though, the position of the lens will still be unknown, though."
     ]
    },
    {
     "cell_type": "markdown",
     "metadata": {},
     "source": [
      "A' is in the middle of P and A\n",
      ":"
     ]
    },
    {
     "cell_type": "code",
     "collapsed": true,
     "input": [
      "A_ = A.midpoint(P)"
     ],
     "language": "python",
     "metadata": {},
     "outputs": [],
     "prompt_number": 3
    },
    {
     "cell_type": "markdown",
     "metadata": {},
     "source": [
      "E' is somewhere between P and E depending on the value alpha:"
     ]
    },
    {
     "cell_type": "code",
     "collapsed": true,
     "input": [
      "alpha = symbols('alpha')\n",
      "E_ = Point((1-alpha)*P.x + alpha*E.x,\n",
      "           (1-alpha)*P.y + alpha*E.y)"
     ],
     "language": "python",
     "metadata": {},
     "outputs": [],
     "prompt_number": 4
    },
    {
     "cell_type": "markdown",
     "metadata": {},
     "source": [
      "Once we have A' and E', let's find C' which is at the intersection of A'E' (the lens) and EP (the light beam): "
     ]
    },
    {
     "cell_type": "code",
     "collapsed": false,
     "input": [
      "C_ = intersection(Line(P, C), Line(A_, E_))[0]"
     ],
     "language": "python",
     "metadata": {},
     "outputs": [],
     "prompt_number": 5
    },
    {
     "cell_type": "code",
     "collapsed": false,
     "input": [
      "C_.x"
     ],
     "language": "python",
     "metadata": {},
     "outputs": [
      {
       "latex": [
        "$$\\frac{\\left(xC - xP\\right) \\left(\\left(xA + xP\\right) \\left(\\alpha yE - yP \\left(\\alpha -1\\right)\\right) - \\left(yA + yP\\right) \\left(\\alpha xE - xP \\left(\\alpha -1\\right)\\right)\\right) + \\left(xC yP - xP yC\\right) \\left(2 \\alpha xE - 2 \\alpha xP - xA + xP\\right)}{\\left(xC - xP\\right) \\left(2 \\alpha yE - 2 \\alpha yP - yA + yP\\right) - \\left(yC - yP\\right) \\left(2 \\alpha xE - 2 \\alpha xP - xA + xP\\right)}$$"
       ],
       "output_type": "pyout",
       "prompt_number": 6,
       "text": [
        "(xC - xP)\u22c5((xA + xP)\u22c5(\u03b1\u22c5yE - yP\u22c5(\u03b1 - 1)) - (yA + yP)\u22c5(\u03b1\u22c5xE - xP\u22c5(\u03b1 - 1))) + (x\n",
        "\u2500\u2500\u2500\u2500\u2500\u2500\u2500\u2500\u2500\u2500\u2500\u2500\u2500\u2500\u2500\u2500\u2500\u2500\u2500\u2500\u2500\u2500\u2500\u2500\u2500\u2500\u2500\u2500\u2500\u2500\u2500\u2500\u2500\u2500\u2500\u2500\u2500\u2500\u2500\u2500\u2500\u2500\u2500\u2500\u2500\u2500\u2500\u2500\u2500\u2500\u2500\u2500\u2500\u2500\u2500\u2500\u2500\u2500\u2500\u2500\u2500\u2500\u2500\u2500\u2500\u2500\u2500\u2500\u2500\u2500\u2500\u2500\u2500\u2500\u2500\u2500\u2500\u2500\n",
        "                     (xC - xP)\u22c5(2\u22c5\u03b1\u22c5yE - 2\u22c5\u03b1\u22c5yP - yA + yP) - (yC - yP)\u22c5(2\u22c5\u03b1\u22c5xE\n",
        "\n",
        "C\u22c5yP - xP\u22c5yC)\u22c5(2\u22c5\u03b1\u22c5xE - 2\u22c5\u03b1\u22c5xP - xA + xP)\n",
        "\u2500\u2500\u2500\u2500\u2500\u2500\u2500\u2500\u2500\u2500\u2500\u2500\u2500\u2500\u2500\u2500\u2500\u2500\u2500\u2500\u2500\u2500\u2500\u2500\u2500\u2500\u2500\u2500\u2500\u2500\u2500\u2500\u2500\u2500\u2500\u2500\u2500\u2500\u2500\u2500\u2500\n",
        " - 2\u22c5\u03b1\u22c5xP - xA + xP)                     "
       ]
      }
     ],
     "prompt_number": 6
    },
    {
     "cell_type": "code",
     "collapsed": false,
     "input": [
      "C_.y"
     ],
     "language": "python",
     "metadata": {},
     "outputs": [
      {
       "latex": [
        "$$\\frac{\\left(yC - yP\\right) \\left(\\left(xA + xP\\right) \\left(\\alpha yE - yP \\left(\\alpha -1\\right)\\right) - \\left(yA + yP\\right) \\left(\\alpha xE - xP \\left(\\alpha -1\\right)\\right)\\right) + \\left(xC yP - xP yC\\right) \\left(2 \\alpha yE - 2 \\alpha yP - yA + yP\\right)}{\\left(xC - xP\\right) \\left(2 \\alpha yE - 2 \\alpha yP - yA + yP\\right) - \\left(yC - yP\\right) \\left(2 \\alpha xE - 2 \\alpha xP - xA + xP\\right)}$$"
       ],
       "output_type": "pyout",
       "prompt_number": 7,
       "text": [
        "(yC - yP)\u22c5((xA + xP)\u22c5(\u03b1\u22c5yE - yP\u22c5(\u03b1 - 1)) - (yA + yP)\u22c5(\u03b1\u22c5xE - xP\u22c5(\u03b1 - 1))) + (x\n",
        "\u2500\u2500\u2500\u2500\u2500\u2500\u2500\u2500\u2500\u2500\u2500\u2500\u2500\u2500\u2500\u2500\u2500\u2500\u2500\u2500\u2500\u2500\u2500\u2500\u2500\u2500\u2500\u2500\u2500\u2500\u2500\u2500\u2500\u2500\u2500\u2500\u2500\u2500\u2500\u2500\u2500\u2500\u2500\u2500\u2500\u2500\u2500\u2500\u2500\u2500\u2500\u2500\u2500\u2500\u2500\u2500\u2500\u2500\u2500\u2500\u2500\u2500\u2500\u2500\u2500\u2500\u2500\u2500\u2500\u2500\u2500\u2500\u2500\u2500\u2500\u2500\u2500\u2500\n",
        "                     (xC - xP)\u22c5(2\u22c5\u03b1\u22c5yE - 2\u22c5\u03b1\u22c5yP - yA + yP) - (yC - yP)\u22c5(2\u22c5\u03b1\u22c5xE\n",
        "\n",
        "C\u22c5yP - xP\u22c5yC)\u22c5(2\u22c5\u03b1\u22c5yE - 2\u22c5\u03b1\u22c5yP - yA + yP)\n",
        "\u2500\u2500\u2500\u2500\u2500\u2500\u2500\u2500\u2500\u2500\u2500\u2500\u2500\u2500\u2500\u2500\u2500\u2500\u2500\u2500\u2500\u2500\u2500\u2500\u2500\u2500\u2500\u2500\u2500\u2500\u2500\u2500\u2500\u2500\u2500\u2500\u2500\u2500\u2500\u2500\u2500\n",
        " - 2\u22c5\u03b1\u22c5xP - xA + xP)                     "
       ]
      }
     ],
     "prompt_number": 7
    },
    {
     "cell_type": "markdown",
     "metadata": {},
     "source": [
      "Now, let's find $alpha$ such as the orientation of the lens is such as the relative distance between the summits is respected compared to what we have on the picture.\n",
      "\n",
      "In order to do that, we want to minimize the absolute value of the error defined as follow (if the photographer is at the right position, we should get error=0).\n",
      "$$error = (A'E'/A'C') - ((deltaE-deltaA)/(deltaC-deltaA))$$\n",
      "\n",
      "Let's study the variation of $error(alpha)$ by looking at the derivate.\n",
      "$$d(error)/d(alpha) = d(A'E'/A'C')/d(alpha)$$\n",
      "\n",
      "As A'E' and A'C' are colinear, there exist gamma such as:\n",
      "$$A'E' = gamma*(xE'-xA')$$\n",
      "$$A'C' = gamma*(xC'-xA')$$\n",
      "\n",
      "Then, we can simplify further:\n",
      "$$d(error)/d(alpha) = d((xE'-xA') / (xC'-xA'))/d(alpha)$$"
     ]
    },
    {
     "cell_type": "code",
     "collapsed": false,
     "input": [
      "derror = (E_.x-A_.x) / (C_.x-A_.x)\n",
      "derror"
     ],
     "language": "python",
     "metadata": {},
     "outputs": [
      {
       "latex": [
        "$$\\frac{\\alpha xE - \\frac{1}{2} xA + xP \\left(- \\alpha + 1\\right) - \\frac{1}{2} xP}{- \\frac{1}{2} xA - \\frac{1}{2} xP + \\frac{\\left(xC - xP\\right) \\left(\\left(xA + xP\\right) \\left(\\alpha yE - yP \\left(\\alpha -1\\right)\\right) - \\left(yA + yP\\right) \\left(\\alpha xE - xP \\left(\\alpha -1\\right)\\right)\\right) + \\left(xC yP - xP yC\\right) \\left(2 \\alpha xE - 2 \\alpha xP - xA + xP\\right)}{\\left(xC - xP\\right) \\left(2 \\alpha yE - 2 \\alpha yP - yA + yP\\right) - \\left(yC - yP\\right) \\left(2 \\alpha xE - 2 \\alpha xP - xA + xP\\right)}}$$"
       ],
       "output_type": "pyout",
       "prompt_number": 8,
       "text": [
        "                                                           xA                 \n",
        "                                                    \u03b1\u22c5xE - \u2500\u2500 + xP\u22c5(-\u03b1 + 1) - \n",
        "                                                           2                  \n",
        "\u2500\u2500\u2500\u2500\u2500\u2500\u2500\u2500\u2500\u2500\u2500\u2500\u2500\u2500\u2500\u2500\u2500\u2500\u2500\u2500\u2500\u2500\u2500\u2500\u2500\u2500\u2500\u2500\u2500\u2500\u2500\u2500\u2500\u2500\u2500\u2500\u2500\u2500\u2500\u2500\u2500\u2500\u2500\u2500\u2500\u2500\u2500\u2500\u2500\u2500\u2500\u2500\u2500\u2500\u2500\u2500\u2500\u2500\u2500\u2500\u2500\u2500\u2500\u2500\u2500\u2500\u2500\u2500\u2500\u2500\u2500\u2500\u2500\u2500\u2500\u2500\u2500\u2500\n",
        "  xA   xP   (xC - xP)\u22c5((xA + xP)\u22c5(\u03b1\u22c5yE - yP\u22c5(\u03b1 - 1)) - (yA + yP)\u22c5(\u03b1\u22c5xE - xP\u22c5(\u03b1\n",
        "- \u2500\u2500 - \u2500\u2500 + \u2500\u2500\u2500\u2500\u2500\u2500\u2500\u2500\u2500\u2500\u2500\u2500\u2500\u2500\u2500\u2500\u2500\u2500\u2500\u2500\u2500\u2500\u2500\u2500\u2500\u2500\u2500\u2500\u2500\u2500\u2500\u2500\u2500\u2500\u2500\u2500\u2500\u2500\u2500\u2500\u2500\u2500\u2500\u2500\u2500\u2500\u2500\u2500\u2500\u2500\u2500\u2500\u2500\u2500\u2500\u2500\u2500\u2500\u2500\u2500\u2500\u2500\u2500\u2500\u2500\u2500\n",
        "  2    2                         (xC - xP)\u22c5(2\u22c5\u03b1\u22c5yE - 2\u22c5\u03b1\u22c5yP - yA + yP) - (yC -\n",
        "\n",
        "xP                                                   \n",
        "\u2500\u2500                                                   \n",
        "2                                                    \n",
        "\u2500\u2500\u2500\u2500\u2500\u2500\u2500\u2500\u2500\u2500\u2500\u2500\u2500\u2500\u2500\u2500\u2500\u2500\u2500\u2500\u2500\u2500\u2500\u2500\u2500\u2500\u2500\u2500\u2500\u2500\u2500\u2500\u2500\u2500\u2500\u2500\u2500\u2500\u2500\u2500\u2500\u2500\u2500\u2500\u2500\u2500\u2500\u2500\u2500\u2500\u2500\u2500\u2500\n",
        " - 1))) + (xC\u22c5yP - xP\u22c5yC)\u22c5(2\u22c5\u03b1\u22c5xE - 2\u22c5\u03b1\u22c5xP - xA + xP)\n",
        "\u2500\u2500\u2500\u2500\u2500\u2500\u2500\u2500\u2500\u2500\u2500\u2500\u2500\u2500\u2500\u2500\u2500\u2500\u2500\u2500\u2500\u2500\u2500\u2500\u2500\u2500\u2500\u2500\u2500\u2500\u2500\u2500\u2500\u2500\u2500\u2500\u2500\u2500\u2500\u2500\u2500\u2500\u2500\u2500\u2500\u2500\u2500\u2500\u2500\u2500\u2500\u2500\u2500\n",
        " yP)\u22c5(2\u22c5\u03b1\u22c5xE - 2\u22c5\u03b1\u22c5xP - xA + xP)                     "
       ]
      }
     ],
     "prompt_number": 8
    },
    {
     "cell_type": "code",
     "collapsed": false,
     "input": [
      "differror = diff(derror, alpha)\n",
      "differror"
     ],
     "language": "python",
     "metadata": {},
     "outputs": [
      {
       "latex": [
        "$$\\frac{xE - xP}{- \\frac{1}{2} xA - \\frac{1}{2} xP + \\frac{\\left(xC - xP\\right) \\left(\\left(xA + xP\\right) \\left(\\alpha yE - yP \\left(\\alpha -1\\right)\\right) - \\left(yA + yP\\right) \\left(\\alpha xE - xP \\left(\\alpha -1\\right)\\right)\\right) + \\left(xC yP - xP yC\\right) \\left(2 \\alpha xE - 2 \\alpha xP - xA + xP\\right)}{\\left(xC - xP\\right) \\left(2 \\alpha yE - 2 \\alpha yP - yA + yP\\right) - \\left(yC - yP\\right) \\left(2 \\alpha xE - 2 \\alpha xP - xA + xP\\right)}} + \\frac{\\left(- \\frac{\\left(- \\left(xC - xP\\right) \\left(2 yE - 2 yP\\right) + \\left(2 xE - 2 xP\\right) \\left(yC - yP\\right)\\right) \\left(\\left(xC - xP\\right) \\left(\\left(xA + xP\\right) \\left(\\alpha yE - yP \\left(\\alpha -1\\right)\\right) - \\left(yA + yP\\right) \\left(\\alpha xE - xP \\left(\\alpha -1\\right)\\right)\\right) + \\left(xC yP - xP yC\\right) \\left(2 \\alpha xE - 2 \\alpha xP - xA + xP\\right)\\right)}{\\left(\\left(xC - xP\\right) \\left(2 \\alpha yE - 2 \\alpha yP - yA + yP\\right) - \\left(yC - yP\\right) \\left(2 \\alpha xE - 2 \\alpha xP - xA + xP\\right)\\right)^{2}} - \\frac{\\left(xC - xP\\right) \\left(\\left(xA + xP\\right) \\left(yE - yP\\right) - \\left(xE - xP\\right) \\left(yA + yP\\right)\\right) + \\left(2 xE - 2 xP\\right) \\left(xC yP - xP yC\\right)}{\\left(xC - xP\\right) \\left(2 \\alpha yE - 2 \\alpha yP - yA + yP\\right) - \\left(yC - yP\\right) \\left(2 \\alpha xE - 2 \\alpha xP - xA + xP\\right)}\\right) \\left(\\alpha xE - \\frac{1}{2} xA + xP \\left(- \\alpha + 1\\right) - \\frac{1}{2} xP\\right)}{\\left(- \\frac{1}{2} xA - \\frac{1}{2} xP + \\frac{\\left(xC - xP\\right) \\left(\\left(xA + xP\\right) \\left(\\alpha yE - yP \\left(\\alpha -1\\right)\\right) - \\left(yA + yP\\right) \\left(\\alpha xE - xP \\left(\\alpha -1\\right)\\right)\\right) + \\left(xC yP - xP yC\\right) \\left(2 \\alpha xE - 2 \\alpha xP - xA + xP\\right)}{\\left(xC - xP\\right) \\left(2 \\alpha yE - 2 \\alpha yP - yA + yP\\right) - \\left(yC - yP\\right) \\left(2 \\alpha xE - 2 \\alpha xP - xA + xP\\right)}\\right)^{2}}$$"
       ],
       "output_type": "pyout",
       "prompt_number": 9,
       "text": [
        "                                                                              \n",
        "                                                                              \n",
        "                                                                              \n",
        "                                                              xE - xP         \n",
        "\u2500\u2500\u2500\u2500\u2500\u2500\u2500\u2500\u2500\u2500\u2500\u2500\u2500\u2500\u2500\u2500\u2500\u2500\u2500\u2500\u2500\u2500\u2500\u2500\u2500\u2500\u2500\u2500\u2500\u2500\u2500\u2500\u2500\u2500\u2500\u2500\u2500\u2500\u2500\u2500\u2500\u2500\u2500\u2500\u2500\u2500\u2500\u2500\u2500\u2500\u2500\u2500\u2500\u2500\u2500\u2500\u2500\u2500\u2500\u2500\u2500\u2500\u2500\u2500\u2500\u2500\u2500\u2500\u2500\u2500\u2500\u2500\u2500\u2500\u2500\u2500\u2500\u2500\n",
        "  xA   xP   (xC - xP)\u22c5((xA + xP)\u22c5(\u03b1\u22c5yE - yP\u22c5(\u03b1 - 1)) - (yA + yP)\u22c5(\u03b1\u22c5xE - xP\u22c5(\u03b1\n",
        "- \u2500\u2500 - \u2500\u2500 + \u2500\u2500\u2500\u2500\u2500\u2500\u2500\u2500\u2500\u2500\u2500\u2500\u2500\u2500\u2500\u2500\u2500\u2500\u2500\u2500\u2500\u2500\u2500\u2500\u2500\u2500\u2500\u2500\u2500\u2500\u2500\u2500\u2500\u2500\u2500\u2500\u2500\u2500\u2500\u2500\u2500\u2500\u2500\u2500\u2500\u2500\u2500\u2500\u2500\u2500\u2500\u2500\u2500\u2500\u2500\u2500\u2500\u2500\u2500\u2500\u2500\u2500\u2500\u2500\u2500\u2500\n",
        "  2    2                         (xC - xP)\u22c5(2\u22c5\u03b1\u22c5yE - 2\u22c5\u03b1\u22c5yP - yA + yP) - (yC -\n",
        "                                                                              \n",
        "\n",
        "                                                        \u239b  (-(xC - xP)\u22c5(2\u22c5yE -\n",
        "                                                        \u239c- \u2500\u2500\u2500\u2500\u2500\u2500\u2500\u2500\u2500\u2500\u2500\u2500\u2500\u2500\u2500\u2500\u2500\u2500\u2500\n",
        "                                                        \u239c                     \n",
        "                                                        \u239d                     \n",
        "\u2500\u2500\u2500\u2500\u2500\u2500\u2500\u2500\u2500\u2500\u2500\u2500\u2500\u2500\u2500\u2500\u2500\u2500\u2500\u2500\u2500\u2500\u2500\u2500\u2500\u2500\u2500\u2500\u2500\u2500\u2500\u2500\u2500\u2500\u2500\u2500\u2500\u2500\u2500\u2500\u2500\u2500\u2500\u2500\u2500\u2500\u2500\u2500\u2500\u2500\u2500\u2500\u2500 + \u2500\u2500\u2500\u2500\u2500\u2500\u2500\u2500\u2500\u2500\u2500\u2500\u2500\u2500\u2500\u2500\u2500\u2500\u2500\u2500\u2500\u2500\n",
        " - 1))) + (xC\u22c5yP - xP\u22c5yC)\u22c5(2\u22c5\u03b1\u22c5xE - 2\u22c5\u03b1\u22c5xP - xA + xP)                         \n",
        "\u2500\u2500\u2500\u2500\u2500\u2500\u2500\u2500\u2500\u2500\u2500\u2500\u2500\u2500\u2500\u2500\u2500\u2500\u2500\u2500\u2500\u2500\u2500\u2500\u2500\u2500\u2500\u2500\u2500\u2500\u2500\u2500\u2500\u2500\u2500\u2500\u2500\u2500\u2500\u2500\u2500\u2500\u2500\u2500\u2500\u2500\u2500\u2500\u2500\u2500\u2500\u2500\u2500                         \n",
        " yP)\u22c5(2\u22c5\u03b1\u22c5xE - 2\u22c5\u03b1\u22c5xP - xA + xP)                                              \n",
        "                                                                              \n",
        "\n",
        " 2\u22c5yP) + (2\u22c5xE - 2\u22c5xP)\u22c5(yC - yP))\u22c5((xC - xP)\u22c5((xA + xP)\u22c5(\u03b1\u22c5yE - yP\u22c5(\u03b1 - 1)) - \n",
        "\u2500\u2500\u2500\u2500\u2500\u2500\u2500\u2500\u2500\u2500\u2500\u2500\u2500\u2500\u2500\u2500\u2500\u2500\u2500\u2500\u2500\u2500\u2500\u2500\u2500\u2500\u2500\u2500\u2500\u2500\u2500\u2500\u2500\u2500\u2500\u2500\u2500\u2500\u2500\u2500\u2500\u2500\u2500\u2500\u2500\u2500\u2500\u2500\u2500\u2500\u2500\u2500\u2500\u2500\u2500\u2500\u2500\u2500\u2500\u2500\u2500\u2500\u2500\u2500\u2500\u2500\u2500\u2500\u2500\u2500\u2500\u2500\u2500\u2500\u2500\u2500\u2500\u2500\n",
        "                                                                              \n",
        "                            ((xC - xP)\u22c5(2\u22c5\u03b1\u22c5yE - 2\u22c5\u03b1\u22c5yP - yA + yP) - (yC - yP)\n",
        "\u2500\u2500\u2500\u2500\u2500\u2500\u2500\u2500\u2500\u2500\u2500\u2500\u2500\u2500\u2500\u2500\u2500\u2500\u2500\u2500\u2500\u2500\u2500\u2500\u2500\u2500\u2500\u2500\u2500\u2500\u2500\u2500\u2500\u2500\u2500\u2500\u2500\u2500\u2500\u2500\u2500\u2500\u2500\u2500\u2500\u2500\u2500\u2500\u2500\u2500\u2500\u2500\u2500\u2500\u2500\u2500\u2500\u2500\u2500\u2500\u2500\u2500\u2500\u2500\u2500\u2500\u2500\u2500\u2500\u2500\u2500\u2500\u2500\u2500\u2500\u2500\u2500\u2500\n",
        "                                                                              \n",
        "                                                            \u239b  xA   xP   (xC -\n",
        "                                                            \u239c- \u2500\u2500 - \u2500\u2500 + \u2500\u2500\u2500\u2500\u2500\n",
        "                                                            \u239d  2    2         \n",
        "\n",
        "(yA + yP)\u22c5(\u03b1\u22c5xE - xP\u22c5(\u03b1 - 1))) + (xC\u22c5yP - xP\u22c5yC)\u22c5(2\u22c5\u03b1\u22c5xE - 2\u22c5\u03b1\u22c5xP - xA + xP)) \n",
        "\u2500\u2500\u2500\u2500\u2500\u2500\u2500\u2500\u2500\u2500\u2500\u2500\u2500\u2500\u2500\u2500\u2500\u2500\u2500\u2500\u2500\u2500\u2500\u2500\u2500\u2500\u2500\u2500\u2500\u2500\u2500\u2500\u2500\u2500\u2500\u2500\u2500\u2500\u2500\u2500\u2500\u2500\u2500\u2500\u2500\u2500\u2500\u2500\u2500\u2500\u2500\u2500\u2500\u2500\u2500\u2500\u2500\u2500\u2500\u2500\u2500\u2500\u2500\u2500\u2500\u2500\u2500\u2500\u2500\u2500\u2500\u2500\u2500\u2500\u2500\u2500\u2500 \n",
        "                             2                                                \n",
        "\u22c5(2\u22c5\u03b1\u22c5xE - 2\u22c5\u03b1\u22c5xP - xA + xP))                                                 \n",
        "\u2500\u2500\u2500\u2500\u2500\u2500\u2500\u2500\u2500\u2500\u2500\u2500\u2500\u2500\u2500\u2500\u2500\u2500\u2500\u2500\u2500\u2500\u2500\u2500\u2500\u2500\u2500\u2500\u2500\u2500\u2500\u2500\u2500\u2500\u2500\u2500\u2500\u2500\u2500\u2500\u2500\u2500\u2500\u2500\u2500\u2500\u2500\u2500\u2500\u2500\u2500\u2500\u2500\u2500\u2500\u2500\u2500\u2500\u2500\u2500\u2500\u2500\u2500\u2500\u2500\u2500\u2500\u2500\u2500\u2500\u2500\u2500\u2500\u2500\u2500\u2500\u2500\u2500\n",
        "                                                                              \n",
        " xP)\u22c5((xA + xP)\u22c5(\u03b1\u22c5yE - yP\u22c5(\u03b1 - 1)) - (yA + yP)\u22c5(\u03b1\u22c5xE - xP\u22c5(\u03b1 - 1))) + (xC\u22c5yP \n",
        "\u2500\u2500\u2500\u2500\u2500\u2500\u2500\u2500\u2500\u2500\u2500\u2500\u2500\u2500\u2500\u2500\u2500\u2500\u2500\u2500\u2500\u2500\u2500\u2500\u2500\u2500\u2500\u2500\u2500\u2500\u2500\u2500\u2500\u2500\u2500\u2500\u2500\u2500\u2500\u2500\u2500\u2500\u2500\u2500\u2500\u2500\u2500\u2500\u2500\u2500\u2500\u2500\u2500\u2500\u2500\u2500\u2500\u2500\u2500\u2500\u2500\u2500\u2500\u2500\u2500\u2500\u2500\u2500\u2500\u2500\u2500\u2500\u2500\u2500\u2500\u2500\u2500\u2500\n",
        "                (xC - xP)\u22c5(2\u22c5\u03b1\u22c5yE - 2\u22c5\u03b1\u22c5yP - yA + yP) - (yC - yP)\u22c5(2\u22c5\u03b1\u22c5xE - 2\u22c5\n",
        "\n",
        "  (xC - xP)\u22c5((xA + xP)\u22c5(yE - yP) - (xE - xP)\u22c5(yA + yP)) + (2\u22c5xE - 2\u22c5xP)\u22c5(xC\u22c5yP\n",
        "- \u2500\u2500\u2500\u2500\u2500\u2500\u2500\u2500\u2500\u2500\u2500\u2500\u2500\u2500\u2500\u2500\u2500\u2500\u2500\u2500\u2500\u2500\u2500\u2500\u2500\u2500\u2500\u2500\u2500\u2500\u2500\u2500\u2500\u2500\u2500\u2500\u2500\u2500\u2500\u2500\u2500\u2500\u2500\u2500\u2500\u2500\u2500\u2500\u2500\u2500\u2500\u2500\u2500\u2500\u2500\u2500\u2500\u2500\u2500\u2500\u2500\u2500\u2500\u2500\u2500\u2500\u2500\u2500\u2500\u2500\u2500\u2500\u2500\u2500\u2500\u2500\n",
        "      (xC - xP)\u22c5(2\u22c5\u03b1\u22c5yE - 2\u22c5\u03b1\u22c5yP - yA + yP) - (yC - yP)\u22c5(2\u22c5\u03b1\u22c5xE - 2\u22c5\u03b1\u22c5xP - xA \n",
        "                                                                              \n",
        "\u2500\u2500\u2500\u2500\u2500\u2500\u2500\u2500\u2500\u2500\u2500\u2500\u2500\u2500\u2500\u2500\u2500\u2500\u2500\u2500\u2500\u2500\u2500\u2500\u2500\u2500\u2500\u2500\u2500\u2500\u2500\u2500\u2500\u2500\u2500\u2500\u2500\u2500\u2500\u2500\u2500\u2500\u2500\u2500\u2500\u2500\u2500\u2500\u2500\u2500\u2500\u2500\u2500\u2500\u2500\u2500\u2500\u2500\u2500\u2500\u2500\u2500\u2500\u2500\u2500\u2500\u2500\u2500\u2500\u2500\u2500\u2500\u2500\u2500\u2500\u2500\u2500\u2500\n",
        "                                     2                                        \n",
        "- xP\u22c5yC)\u22c5(2\u22c5\u03b1\u22c5xE - 2\u22c5\u03b1\u22c5xP - xA + xP)\u239e                                         \n",
        "\u2500\u2500\u2500\u2500\u2500\u2500\u2500\u2500\u2500\u2500\u2500\u2500\u2500\u2500\u2500\u2500\u2500\u2500\u2500\u2500\u2500\u2500\u2500\u2500\u2500\u2500\u2500\u2500\u2500\u2500\u2500\u2500\u2500\u2500\u2500\u2500\u239f                                         \n",
        "\u03b1\u22c5xP - xA + xP)                     \u23a0                                         \n",
        "\n",
        " - xP\u22c5yC)\u239e \u239b       xA                 xP\u239e\n",
        "\u2500\u2500\u2500\u2500\u2500\u2500\u2500\u2500\u2500\u239f\u22c5\u239c\u03b1\u22c5xE - \u2500\u2500 + xP\u22c5(-\u03b1 + 1) - \u2500\u2500\u239f\n",
        "+ xP)    \u239f \u239d       2                  2 \u23a0\n",
        "         \u23a0                               \n",
        "\u2500\u2500\u2500\u2500\u2500\u2500\u2500\u2500\u2500\u2500\u2500\u2500\u2500\u2500\u2500\u2500\u2500\u2500\u2500\u2500\u2500\u2500\u2500\u2500\u2500\u2500\u2500\u2500\u2500\u2500\u2500\u2500\u2500\u2500\u2500\u2500\u2500\u2500\u2500\u2500\u2500\n",
        "                                         \n",
        "                                         \n",
        "                                         \n",
        "                                         "
       ]
      }
     ],
     "prompt_number": 9
    },
    {
     "cell_type": "code",
     "collapsed": false,
     "input": [
      "(differrornum, differrordenum) = differror.as_numer_denom()\n",
      "differrornum.collect(alpha)"
     ],
     "language": "python",
     "metadata": {},
     "outputs": [
      {
       "latex": [
        "$$4 \\left(xE - xP\\right) \\left(\\left(xC - xP\\right) \\left(2 \\alpha yE - 2 \\alpha yP - yA + yP\\right) - \\left(yC - yP\\right) \\left(2 \\alpha xE - 2 \\alpha xP - xA + xP\\right)\\right)^{4} \\left(\\left(- xA - xP\\right) \\left(\\left(xC - xP\\right) \\left(2 \\alpha yE - 2 \\alpha yP - yA + yP\\right) - \\left(yC - yP\\right) \\left(2 \\alpha xE - 2 \\alpha xP - xA + xP\\right)\\right) + 2 \\left(xC - xP\\right) \\left(\\left(xA + xP\\right) \\left(\\alpha yE - yP \\left(\\alpha -1\\right)\\right) - \\left(yA + yP\\right) \\left(\\alpha xE - xP \\left(\\alpha -1\\right)\\right)\\right) + 2 \\left(xC yP - xP yC\\right) \\left(2 \\alpha xE - 2 \\alpha xP - xA + xP\\right)\\right)^{2} + 4 \\left(\\left(xC - xP\\right) \\left(2 \\alpha yE - 2 \\alpha yP - yA + yP\\right) - \\left(yC - yP\\right) \\left(2 \\alpha xE - 2 \\alpha xP - xA + xP\\right)\\right)^{2} \\left(- \\left(- \\left(xC - xP\\right) \\left(2 yE - 2 yP\\right) + \\left(2 xE - 2 xP\\right) \\left(yC - yP\\right)\\right) \\left(\\left(xC - xP\\right) \\left(\\left(xA + xP\\right) \\left(\\alpha yE - yP \\left(\\alpha -1\\right)\\right) - \\left(yA + yP\\right) \\left(\\alpha xE - xP \\left(\\alpha -1\\right)\\right)\\right) + \\left(xC yP - xP yC\\right) \\left(2 \\alpha xE - 2 \\alpha xP - xA + xP\\right)\\right) \\left(\\left(xC - xP\\right) \\left(2 \\alpha yE - 2 \\alpha yP - yA + yP\\right) - \\left(yC - yP\\right) \\left(2 \\alpha xE - 2 \\alpha xP - xA + xP\\right)\\right) + \\left(- \\left(xC - xP\\right) \\left(\\left(xA + xP\\right) \\left(yE - yP\\right) - \\left(xE - xP\\right) \\left(yA + yP\\right)\\right) - \\left(2 xE - 2 xP\\right) \\left(xC yP - xP yC\\right)\\right) \\left(\\left(xC - xP\\right) \\left(2 \\alpha yE - 2 \\alpha yP - yA + yP\\right) - \\left(yC - yP\\right) \\left(2 \\alpha xE - 2 \\alpha xP - xA + xP\\right)\\right)^{2}\\right) \\left(\\left(- xA - xP\\right) \\left(\\left(xC - xP\\right) \\left(2 \\alpha yE - 2 \\alpha yP - yA + yP\\right) - \\left(yC - yP\\right) \\left(2 \\alpha xE - 2 \\alpha xP - xA + xP\\right)\\right) + 2 \\left(xC - xP\\right) \\left(\\left(xA + xP\\right) \\left(\\alpha yE - yP \\left(\\alpha -1\\right)\\right) - \\left(yA + yP\\right) \\left(\\alpha xE - xP \\left(\\alpha -1\\right)\\right)\\right) + 2 \\left(xC yP - xP yC\\right) \\left(2 \\alpha xE - 2 \\alpha xP - xA + xP\\right)\\right) \\left(2 \\alpha xE - xA + 2 xP \\left(- \\alpha + 1\\right) - xP\\right)$$"
       ],
       "output_type": "pyout",
       "prompt_number": 10,
       "text": [
        "                                                                              \n",
        "4\u22c5(xE - xP)\u22c5((xC - xP)\u22c5(2\u22c5\u03b1\u22c5yE - 2\u22c5\u03b1\u22c5yP - yA + yP) - (yC - yP)\u22c5(2\u22c5\u03b1\u22c5xE - 2\u22c5\u03b1\u22c5x\n",
        "\n",
        "             4                                                                \n",
        "P - xA + xP)) \u22c5((-xA - xP)\u22c5((xC - xP)\u22c5(2\u22c5\u03b1\u22c5yE - 2\u22c5\u03b1\u22c5yP - yA + yP) - (yC - yP)\u22c5\n",
        "\n",
        "                                                                              \n",
        "(2\u22c5\u03b1\u22c5xE - 2\u22c5\u03b1\u22c5xP - xA + xP)) + 2\u22c5(xC - xP)\u22c5((xA + xP)\u22c5(\u03b1\u22c5yE - yP\u22c5(\u03b1 - 1)) - (y\n",
        "\n",
        "                                                                             2\n",
        "A + yP)\u22c5(\u03b1\u22c5xE - xP\u22c5(\u03b1 - 1))) + 2\u22c5(xC\u22c5yP - xP\u22c5yC)\u22c5(2\u22c5\u03b1\u22c5xE - 2\u22c5\u03b1\u22c5xP - xA + xP)) \n",
        "\n",
        "                                                                              \n",
        " + 4\u22c5((xC - xP)\u22c5(2\u22c5\u03b1\u22c5yE - 2\u22c5\u03b1\u22c5yP - yA + yP) - (yC - yP)\u22c5(2\u22c5\u03b1\u22c5xE - 2\u22c5\u03b1\u22c5xP - xA \n",
        "\n",
        "      2 \u239b                                                                     \n",
        "+ xP)) \u22c5\u239d-(-(xC - xP)\u22c5(2\u22c5yE - 2\u22c5yP) + (2\u22c5xE - 2\u22c5xP)\u22c5(yC - yP))\u22c5((xC - xP)\u22c5((xA\n",
        "\n",
        "                                                                              \n",
        " + xP)\u22c5(\u03b1\u22c5yE - yP\u22c5(\u03b1 - 1)) - (yA + yP)\u22c5(\u03b1\u22c5xE - xP\u22c5(\u03b1 - 1))) + (xC\u22c5yP - xP\u22c5yC)\u22c5\n",
        "\n",
        "                                                                              \n",
        "(2\u22c5\u03b1\u22c5xE - 2\u22c5\u03b1\u22c5xP - xA + xP))\u22c5((xC - xP)\u22c5(2\u22c5\u03b1\u22c5yE - 2\u22c5\u03b1\u22c5yP - yA + yP) - (yC - yP\n",
        "\n",
        "                                                                              \n",
        ")\u22c5(2\u22c5\u03b1\u22c5xE - 2\u22c5\u03b1\u22c5xP - xA + xP)) + (-(xC - xP)\u22c5((xA + xP)\u22c5(yE - yP) - (xE - xP)\u22c5\n",
        "\n",
        "                                                                              \n",
        "(yA + yP)) - (2\u22c5xE - 2\u22c5xP)\u22c5(xC\u22c5yP - xP\u22c5yC))\u22c5((xC - xP)\u22c5(2\u22c5\u03b1\u22c5yE - 2\u22c5\u03b1\u22c5yP - yA +\n",
        "\n",
        "                                             2\u239e                               \n",
        " yP) - (yC - yP)\u22c5(2\u22c5\u03b1\u22c5xE - 2\u22c5\u03b1\u22c5xP - xA + xP)) \u23a0\u22c5((-xA - xP)\u22c5((xC - xP)\u22c5(2\u22c5\u03b1\u22c5yE\n",
        "\n",
        "                                                                              \n",
        " - 2\u22c5\u03b1\u22c5yP - yA + yP) - (yC - yP)\u22c5(2\u22c5\u03b1\u22c5xE - 2\u22c5\u03b1\u22c5xP - xA + xP)) + 2\u22c5(xC - xP)\u22c5((\n",
        "\n",
        "                                                                              \n",
        "xA + xP)\u22c5(\u03b1\u22c5yE - yP\u22c5(\u03b1 - 1)) - (yA + yP)\u22c5(\u03b1\u22c5xE - xP\u22c5(\u03b1 - 1))) + 2\u22c5(xC\u22c5yP - xP\u22c5\n",
        "\n",
        "                                                                   \n",
        "yC)\u22c5(2\u22c5\u03b1\u22c5xE - 2\u22c5\u03b1\u22c5xP - xA + xP))\u22c5(2\u22c5\u03b1\u22c5xE - xA + 2\u22c5xP\u22c5(-\u03b1 + 1) - xP)"
       ]
      }
     ],
     "prompt_number": 10
    },
    {
     "cell_type": "markdown",
     "metadata": {},
     "source": [
      "Well well well...\n",
      "\n",
      "$d(error)/d(alpha)$ has a numerator in $alpha^4$. Not easy to solve...\n",
      "\n",
      "Dead end!"
     ]
    },
    {
     "cell_type": "code",
     "collapsed": true,
     "input": [],
     "language": "python",
     "metadata": {},
     "outputs": [],
     "prompt_number": 51
    }
   ],
   "metadata": {}
  }
 ]
}